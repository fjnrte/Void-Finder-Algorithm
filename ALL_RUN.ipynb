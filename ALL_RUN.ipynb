{
 "cells": [
  {
   "cell_type": "code",
   "execution_count": 1,
   "id": "9674ea05-710b-45ae-9c5d-53a1d2eebfa7",
   "metadata": {
    "editable": true,
    "slideshow": {
     "slide_type": ""
    },
    "tags": []
   },
   "outputs": [],
   "source": [
    "%run ./0___Reference.ipynb"
   ]
  },
  {
   "cell_type": "code",
   "execution_count": 2,
   "id": "eb8e5ca3-8c22-4e7c-bbb5-20319f680690",
   "metadata": {
    "editable": true,
    "slideshow": {
     "slide_type": ""
    },
    "tags": []
   },
   "outputs": [],
   "source": [
    "import numpy as np\n",
    "import json\n",
    "import papermill as pm\n",
    "from concurrent.futures import ThreadPoolExecutor, as_completed"
   ]
  },
  {
   "cell_type": "code",
   "execution_count": 3,
   "id": "09b5be81-5e7f-4005-862b-14a87297f634",
   "metadata": {},
   "outputs": [],
   "source": [
    "import warnings\n",
    "import os\n",
    "\n",
    "# Suppress the warning from the debugger\n",
    "os.environ['PYDEVD_DISABLE_FILE_VALIDATION'] = '1'\n",
    "warnings.filterwarnings(\"ignore\", message=\".*frozen modules.*\")"
   ]
  },
  {
   "cell_type": "markdown",
   "id": "6a0bbe3d",
   "metadata": {
    "editable": true,
    "slideshow": {
     "slide_type": ""
    },
    "tags": []
   },
   "source": [
    "---"
   ]
  },
  {
   "cell_type": "markdown",
   "id": "2cc1f0a2",
   "metadata": {
    "editable": true,
    "slideshow": {
     "slide_type": ""
    },
    "tags": []
   },
   "source": [
    "# Make core folders"
   ]
  },
  {
   "cell_type": "code",
   "execution_count": 4,
   "id": "9ad1eab5",
   "metadata": {
    "editable": true,
    "slideshow": {
     "slide_type": ""
    },
    "tags": []
   },
   "outputs": [],
   "source": [
    "os.makedirs(output_directory, exist_ok=True)"
   ]
  },
  {
   "cell_type": "markdown",
   "id": "f357bf90",
   "metadata": {
    "editable": true,
    "slideshow": {
     "slide_type": ""
    },
    "tags": []
   },
   "source": [
    "---\n",
    "---\n",
    "---"
   ]
  },
  {
   "cell_type": "markdown",
   "id": "020d3808",
   "metadata": {
    "editable": true,
    "slideshow": {
     "slide_type": ""
    },
    "tags": []
   },
   "source": [
    "# Run the notebooks"
   ]
  },
  {
   "cell_type": "code",
   "execution_count": 5,
   "id": "f4529d4a",
   "metadata": {
    "editable": true,
    "slideshow": {
     "slide_type": ""
    },
    "tags": []
   },
   "outputs": [],
   "source": [
    "def make_folder(name_folder):\n",
    "    \n",
    "    if not os.path.exists(name_folder): os.makedirs(name_folder)"
   ]
  },
  {
   "cell_type": "markdown",
   "id": "f5e119a8-b2d8-4d63-bff5-b1e1b5dc97a2",
   "metadata": {
    "editable": true,
    "slideshow": {
     "slide_type": ""
    },
    "tags": []
   },
   "source": [
    "---"
   ]
  },
  {
   "cell_type": "code",
   "execution_count": 6,
   "id": "c113d4aa-ec18-45e3-80a3-d69a6ce1599a",
   "metadata": {},
   "outputs": [],
   "source": [
    "def execute_notebook_ALL(notebook_directory, notebook_filename, iteration, parameters, output_directory):\n",
    "    \n",
    "    '''\n",
    "    Define a function to execute a notebook.\n",
    "    \n",
    "    Usage: This way, we can implement a multiprocessing pipeline which, when using jupyter notebooks, is much \n",
    "        faster than using built functions that paralellize the code. We thus write the code that we wish to run\n",
    "        multiple parallel instances of into a separate notebook and run it from inside another notebook where it \n",
    "        needs to be executed.\n",
    "    '''\n",
    "\n",
    "    print(parameters)\n",
    "    \n",
    "    # Define the input and output paths for the notebook\n",
    "    input_notebook_path  = os.path.join(notebook_directory, notebook_filename)\n",
    "    output_notebook_path = os.path.join(output_directory, f\"{notebook_filename}_output_{iteration}.ipynb\")\n",
    "    \n",
    "    # Execute the notebook with papermill\n",
    "    pm.execute_notebook(input_notebook_path, output_notebook_path, parameters=parameters)"
   ]
  },
  {
   "cell_type": "code",
   "execution_count": 7,
   "id": "ff9dea1a",
   "metadata": {
    "editable": true,
    "slideshow": {
     "slide_type": ""
    },
    "tags": []
   },
   "outputs": [],
   "source": [
    "def Run_the_notebooks(notebook_filenames, notebook_parameters, notebook_directory, output_directory, max_parallel=3):\n",
    "    \n",
    "    '''\n",
    "    Run notebooks in parallel, starting a new one whenever another finishes.\n",
    "    '''\n",
    "    \n",
    "    with ThreadPoolExecutor(max_workers=max_parallel) as executor:\n",
    "        # Submit each notebook execution as a separate future\n",
    "        futures = [\n",
    "            executor.submit(execute_notebook_ALL, notebook_directory, notebook_filename, i, notebook_parameters[i], output_directory)\n",
    "            for i, notebook_filename in enumerate(notebook_filenames)\n",
    "        ]\n",
    "        \n",
    "        # As each notebook completes, start a new one if available\n",
    "        for future in as_completed(futures):\n",
    "            future.result()  # This will raise any exceptions from the notebook execution"
   ]
  },
  {
   "cell_type": "markdown",
   "id": "6dcead13",
   "metadata": {
    "editable": true,
    "slideshow": {
     "slide_type": ""
    },
    "tags": []
   },
   "source": [
    "---\n",
    "---\n",
    "---"
   ]
  },
  {
   "cell_type": "code",
   "execution_count": 8,
   "id": "2f882ad3-8f11-4a7d-a7da-91288b20dcb0",
   "metadata": {},
   "outputs": [],
   "source": [
    "running = True"
   ]
  },
  {
   "cell_type": "code",
   "execution_count": null,
   "id": "da4ba88e-bd01-4457-9a98-6acaafef57fc",
   "metadata": {},
   "outputs": [
    {
     "name": "stdout",
     "output_type": "stream",
     "text": [
      "\n",
      "\n",
      "\n",
      "- - - - - - - - - - - - - - - - - - ALL_index 0\n",
      "\n",
      "- - - - - - - - - - - - - - - - - - Cube\n",
      "{'basePath': '..', 'size': 128, 'zno': '135', 'ecc': '[[    0,75000],\\n [    0,75000],\\n [    0,75000]]', 'd_xyz': 585.9375, 'file_path_zP': '../Modified_Data_128/z_00/', 'm_DM': 0.0338857141965349}\n"
     ]
    },
    {
     "data": {
      "application/vnd.jupyter.widget-view+json": {
       "model_id": "e7cc969734da4e1aa4a2a01d9d14cc8e",
       "version_major": 2,
       "version_minor": 0
      },
      "text/plain": [
       "Executing:   0%|          | 0/13 [00:00<?, ?cell/s]"
      ]
     },
     "metadata": {},
     "output_type": "display_data"
    }
   ],
   "source": [
    "for ALL_index in range(len(ALL_sizes)):\n",
    "    \n",
    "    print(); print(); print(); print(\"- - - - - - - - - - - - - - - - - - ALL_index\", ALL_index); print()\n",
    "    \n",
    "    cores_no___1_cube                  = ALL_cores_no___1_cube[                 ALL_index]\n",
    "    cores_no___2_Gaussian              = ALL_cores_no___2_Gaussian[             ALL_index]\n",
    "    cores_no___3_Layer                 = ALL_cores_no___3_Layer[                ALL_index]\n",
    "    cores_no___4_UOD_vals_and_lvls     = ALL_cores_no___4_UOD_vals_and_lvls[    ALL_index]\n",
    "    cores_no___5_Origins               = ALL_cores_no___5_Origins[              ALL_index]\n",
    "    cores_no___6_Levels_isolated_pairs = ALL_cores_no___6_Levels_isolated_pairs[ALL_index]\n",
    "    cores_no___7_Finder                = ALL_cores_no___7_Finder[               ALL_index]\n",
    "\n",
    "    \n",
    "    file_path     = ALL_file_paths[    ALL_index]\n",
    "    size          = ALL_sizes[         ALL_index]\n",
    "    zPaths        = ALL_zPaths[        ALL_index]\n",
    "    znos          = ALL_znos[          ALL_index]\n",
    "    edge_cube_cut = ALL_edge_cube_cuts[ALL_index]\n",
    "    d_xyz         = ALL_d_xyzs[        ALL_index]\n",
    "    sigma_ps      = ALL_sigma_ps[      ALL_index]\n",
    "    sigma_cs      = ALL_sigma_cs[      ALL_index]\n",
    "    lvls          = ALL_lvls[          ALL_index]\n",
    "    Density_uods  = ALL_Density_uods[  ALL_index]\n",
    "    run_Origins   = ALL_run_Origins[   ALL_index]\n",
    "    run_MKs       = ALL_run_MKs[       ALL_index]\n",
    "    save1percs    = ALL_save1percs[    ALL_index]\n",
    "    \n",
    "    \n",
    "\n",
    "    \n",
    "    if True:\n",
    "        print(\"- - - - - - - - - - - - - - - - - - Cube\")\n",
    "        \n",
    "        notebook_filenames = []; notebook_parameters = []\n",
    "        for i0 in range(len(zPaths)):\n",
    "            zPath        = zPaths[i0]\n",
    "            zno          = znos[i0]\n",
    "            file_path_zP = file_path+\"z_\"+zPath+\"/\"; make_folder(file_path_zP)\n",
    "            notebook_filenames.append(\"1___Cube.ipynb\")\n",
    "            notebook_parameters.append({\"basePath\":      basePath,\n",
    "                                        \"size\":          size,\n",
    "                                        \"zno\":           zno,\n",
    "                                        \"ecc\":           np.array2string(np.array(edge_cube_cut)*1000, separator=\",\"),\n",
    "                                        \"d_xyz\":         d_xyz,\n",
    "                                        \"file_path_zP\":  file_path_zP,\n",
    "                                        \"m_DM\":          m_DM})\n",
    "        \n",
    "        if running:\n",
    "            Run_the_notebooks(notebook_filenames, notebook_parameters, notebook_directory, output_directory, cores_no___1_cube)\n",
    "        else:\n",
    "            for nbp in notebook_parameters: print(nbp)\n",
    "\n",
    "\n",
    "\n",
    "    \n",
    "    if True:\n",
    "        print(\"- - - - - - - - - - - - - - - - - - Gaussian\")\n",
    "        \n",
    "        notebook_filenames = []; notebook_parameters = []\n",
    "        for z in range(len(sigma_ps)):\n",
    "            zPath             = zPaths[z]\n",
    "            file_path_zP      = file_path+\"z_\"+zPath+\"/\"\n",
    "            for s in range(len(sigma_ps[z])):\n",
    "                sigma_p       = sigma_ps[z][s]\n",
    "                sigma_c       = sigma_cs[z][s]\n",
    "                file_path_Sgm = file_path_zP+\"Sgm___\"+str(sigma_p)+\"/\"; make_folder(file_path_Sgm)\n",
    "                notebook_filenames.append(\"2___Gaussian.ipynb\")\n",
    "                notebook_parameters.append({\"sigma_c\":       sigma_c,\n",
    "                                            \"file_path_zP\":  file_path_zP,\n",
    "                                            \"file_path_Sgm\": file_path_Sgm})\n",
    "            \n",
    "        if running and (len(notebook_filenames) != 0):\n",
    "            Run_the_notebooks(notebook_filenames, notebook_parameters, notebook_directory, output_directory, cores_no___2_Gaussian)\n",
    "        else:\n",
    "            for nbp in notebook_parameters: print(nbp)\n",
    "\n",
    "\n",
    "\n",
    "    \n",
    "    if True:\n",
    "        print(\"- - - - - - - - - - - - - - - - - - Layer\")\n",
    "        \n",
    "        notebook_filenames = []; notebook_parameters = []\n",
    "        for z in range(len(lvls)):\n",
    "            zPath                 = zPaths[z]\n",
    "            file_path_zP          = file_path+\"z_\"+zPath+\"/\"\n",
    "            for s in range(len(lvls[z])):\n",
    "                sigma_p           = sigma_ps[z][s]\n",
    "                file_path_Sgm     = file_path_zP+\"Sgm___\"+str(sigma_p)+\"/\"\n",
    "                for l in range(len(lvls[z][s])):\n",
    "                    lvl           = lvls[z][s][l]\n",
    "                    file_path_Lvl = file_path_Sgm+\"Lvl___\"+str(lvl)+\"/\"; make_folder(file_path_Lvl)\n",
    "                    notebook_filenames.append(\"3___Layer.ipynb\")\n",
    "                    notebook_parameters.append({\"lvl\":           lvl,\n",
    "                                                \"file_path_Sgm\": file_path_Sgm,\n",
    "                                                \"file_path_Lvl\": file_path_Lvl})\n",
    "        \n",
    "        if running and (len(notebook_filenames) != 0):\n",
    "            Run_the_notebooks(notebook_filenames, notebook_parameters, notebook_directory, output_directory, cores_no___3_Layer)\n",
    "        else:\n",
    "            for nbp in notebook_parameters: print(nbp)\n",
    "\n",
    "\n",
    "\n",
    "\n",
    "    if True:\n",
    "        print(\"- - - - - - - - - - - - - - - - - - UOD_vals_and_lvls\")\n",
    "\n",
    "        notebook_filenames = []; notebook_parameters = []\n",
    "        for z in range(len(lvls)):\n",
    "            zPath                   = zPaths[z]\n",
    "            file_path_zP            = file_path+\"z_\"+zPath+\"/\"\n",
    "            for s in range(len(lvls[z])):\n",
    "                sigma_p             = sigma_ps[z][s]\n",
    "                file_path_Sgm       = file_path_zP+\"Sgm___\"+str(sigma_p)+\"/\"\n",
    "                for l in range(len(lvls[z][s])):\n",
    "                    lvl             = lvls[z][s][l]\n",
    "                    Density_uod_l   = Density_uods[z][s][l]\n",
    "                    file_path_Lvl   = file_path_Sgm+\"Lvl___\"+str(lvl)+\"/\"\n",
    "                    if len(Density_uod_l) != 0:\n",
    "                        notebook_filenames.append(\"4___UOD_vals_and_lvls.ipynb\")\n",
    "                        notebook_parameters.append({\"lvl\":           lvl,\n",
    "                                                    \"Density_uod_l\": np.array2string(np.array(Density_uod_l), separator=\",\"),\n",
    "                                                    \"file_path_Sgm\": file_path_Sgm,\n",
    "                                                    \"file_path_Lvl\": file_path_Lvl})\n",
    "            \n",
    "        if running and (len(notebook_filenames) != 0):\n",
    "            Run_the_notebooks(notebook_filenames, notebook_parameters, notebook_directory, output_directory, cores_no___4_UOD_vals_and_lvls)\n",
    "        else:\n",
    "            for nbp in notebook_parameters: print(nbp)\n",
    "        \n",
    "\n",
    "\n",
    "    \n",
    "    if True:\n",
    "        print(\"- - - - - - - - - - - - - - - - - - Origins\")\n",
    "\n",
    "        notebook_filenames = []; notebook_parameters = []\n",
    "        for z in range(len(lvls)):\n",
    "            zPath                   = zPaths[z]\n",
    "            file_path_zP            = file_path+\"z_\"+zPath+\"/\"\n",
    "            for s in range(len(lvls[z])):\n",
    "                sigma_p             = sigma_ps[z][s]\n",
    "                file_path_Sgm       = file_path_zP+\"Sgm___\"+str(sigma_p)+\"/\"\n",
    "                for l in range(len(lvls[z][s])):\n",
    "                    lvl             = lvls[z][s][l]\n",
    "                    file_path_Lvl   = file_path_Sgm+\"Lvl___\"+str(lvl)+\"/\"\n",
    "                    if run_Origins[z][s][l]:\n",
    "                        notebook_filenames.append(\"5___Origins.ipynb\")\n",
    "                        notebook_parameters.append({\"lvl\":           lvl,\n",
    "                                                    \"file_path_Sgm\": file_path_Sgm,\n",
    "                                                    \"file_path_Lvl\": file_path_Lvl})\n",
    "            \n",
    "        if running and (len(notebook_filenames) != 0):\n",
    "            Run_the_notebooks(notebook_filenames, notebook_parameters, notebook_directory, output_directory, cores_no___5_Origins)\n",
    "        else:\n",
    "            for nbp in notebook_parameters: print(nbp)\n",
    "\n",
    "\n",
    "\n",
    "    \n",
    "    if True:\n",
    "        print(\"- - - - - - - - - - - - - - - - - - Levels isolated pairs\")\n",
    "\n",
    "        notebook_filenames = []; notebook_parameters = []\n",
    "        for z in range(len(lvls)):\n",
    "            zPath                   = zPaths[z]\n",
    "            file_path_zP            = file_path+\"z_\"+zPath+\"/\"\n",
    "            for s in range(len(lvls[z])):\n",
    "                sigma_p             = sigma_ps[z][s]\n",
    "                file_path_Sgm       = file_path_zP+\"Sgm___\"+str(sigma_p)+\"/\"\n",
    "                for l in range(len(lvls[z][s])):\n",
    "                    lvl             = lvls[z][s][l]\n",
    "                    file_path_Lvl   = file_path_Sgm+\"Lvl___\"+str(lvl)+\"/\"\n",
    "                    if len(run_MKs[z][s][l]) != 0:\n",
    "                        make_folder(file_path_Lvl+\"dict_cells_pairs/\")\n",
    "                        make_folder(file_path_Lvl+\"dict_cells_isolated/\")\n",
    "                        notebook_filenames.append(\"6___Levels_isolated_pairs.ipynb\")\n",
    "                        notebook_parameters.append({\"lvl\":           lvl,\n",
    "                                                    \"file_path_Lvl\": file_path_Lvl})\n",
    "        \n",
    "        if running and (len(notebook_filenames) != 0):\n",
    "            Run_the_notebooks(notebook_filenames, notebook_parameters, notebook_directory, output_directory, cores_no___6_Levels_isolated_pairs)\n",
    "        else:\n",
    "            for nbp in notebook_parameters: print(nbp)\n",
    "\n",
    "\n",
    "\n",
    "        \n",
    "    if True:\n",
    "        print(\"- - - - - - - - - - - - - - - - - - Finder\")\n",
    "\n",
    "        notebook_filenames = []; notebook_parameters = []\n",
    "        for z in range(len(lvls)):\n",
    "            zPath                     = zPaths[z]\n",
    "            file_path_zP              = file_path+\"z_\"+zPath+\"/\"\n",
    "            for s in range(len(lvls[z])):\n",
    "                sigma_p               = sigma_ps[z][s]\n",
    "                file_path_Sgm         = file_path_zP+\"Sgm___\"+str(sigma_p)+\"/\"\n",
    "                for l in range(len(lvls[z][s])):\n",
    "                    lvl               = lvls[z][s][l]\n",
    "                    file_path_Lvl     = file_path_Sgm+\"Lvl___\"+str(lvl)+\"/\"\n",
    "                    for d in range(len(Density_uods[z][s][l])):\n",
    "                        [Density_ud, Density_od] = Density_uods[z][s][l][d]\n",
    "                        for m in range(len(run_MKs[z][s][l][d])):\n",
    "                            MK        = run_MKs[   z][s][l][d][m]\n",
    "                            save1perc = save1percs[z][s][l][d][m]\n",
    "                            file_path_Duod = file_path_Lvl+\"D___[\"+str(Density_ud)+\"_\"+str(Density_od)+\"]/\"\n",
    "                            file_path_MK = file_path_Duod+MK+\"/\"\n",
    "                            make_folder(file_path_MK)\n",
    "                            notebook_filenames.append(\"7___Finder.ipynb\")\n",
    "                            notebook_parameters.append({\"MK\":                 MK,\n",
    "                                                        \"save_perc\":          save1perc,\n",
    "                                                        \"Density_ud\":         Density_ud,\n",
    "                                                        \"Density_od\":         Density_od,\n",
    "                                                        \"times_we_tried_max\": times_we_tried_max,\n",
    "                                                        \"file_path_Lvl\":      file_path_Lvl,\n",
    "                                                        \"file_path_MK\":       file_path_MK})\n",
    "\n",
    "\n",
    "        \n",
    "        if running and (len(notebook_filenames) != 0):\n",
    "            Run_the_notebooks(notebook_filenames, notebook_parameters, notebook_directory, output_directory, cores_no___7_Finder)\n",
    "        else:\n",
    "            for nbp in notebook_parameters: print(nbp)"
   ]
  },
  {
   "cell_type": "markdown",
   "id": "3c0837ed",
   "metadata": {},
   "source": [
    "---\n",
    "---\n",
    "---"
   ]
  }
 ],
 "metadata": {
  "kernelspec": {
   "display_name": "Python 3 (ipykernel)",
   "language": "python",
   "name": "python3"
  },
  "language_info": {
   "codemirror_mode": {
    "name": "ipython",
    "version": 3
   },
   "file_extension": ".py",
   "mimetype": "text/x-python",
   "name": "python",
   "nbconvert_exporter": "python",
   "pygments_lexer": "ipython3",
   "version": "3.12.5"
  }
 },
 "nbformat": 4,
 "nbformat_minor": 5
}
