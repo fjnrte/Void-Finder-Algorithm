{
 "cells": [
  {
   "cell_type": "code",
   "execution_count": null,
   "id": "b43c561a-2326-4351-8253-a43f0a0facf0",
   "metadata": {},
   "outputs": [],
   "source": [
    "from illustris_python.snapshot import loadSubset as illustris_load\n",
    "import numpy as np\n",
    "from numba import njit\n",
    "import pickle as pkl"
   ]
  },
  {
   "cell_type": "markdown",
   "id": "0f67118d-4a69-4bb7-87ea-e7fffc618f26",
   "metadata": {},
   "source": [
    "---\n",
    "---\n",
    "---"
   ]
  },
  {
   "cell_type": "code",
   "execution_count": null,
   "id": "5f3deba7-a8d7-4fee-818b-f1098efecd64",
   "metadata": {},
   "outputs": [],
   "source": [
    "@njit\n",
    "def region_cut(coordinates, ecc):\n",
    "    \n",
    "    '''\n",
    "    From a set of coordinates, select only those that fit between set coordinates in ckpc/h (the dimensions\n",
    "        of the data set, in this case).\n",
    "    '''\n",
    "    \n",
    "    cut_coordinates = []\n",
    "    for i in range(len(coordinates)):\n",
    "        coordinates_i = coordinates[i]\n",
    "        if ((ecc[0,0] <= coordinates_i[0] < ecc[0,1]) and \n",
    "            (ecc[1,0] <= coordinates_i[1] < ecc[1,1]) and \n",
    "            (ecc[2,0] <= coordinates_i[2] < ecc[2,1])):\n",
    "            cut_coordinates.append(coordinates_i)\n",
    "    \n",
    "    return cut_coordinates"
   ]
  },
  {
   "cell_type": "markdown",
   "id": "fce856cc-8201-43c0-84ee-9f260b279f13",
   "metadata": {},
   "source": [
    "---"
   ]
  },
  {
   "cell_type": "code",
   "execution_count": null,
   "id": "c00f2ea2-afec-4ed1-af7f-eda252a2b729",
   "metadata": {},
   "outputs": [],
   "source": [
    "@njit\n",
    "def fct_coord_to_index(i, ecc, d_xyz, size):\n",
    "    \n",
    "    '''\n",
    "    Transform coordinates to grid cell indices.\n",
    "    '''\n",
    "    \n",
    "    return int(sum(((i-np.array([ecc[0,0], ecc[1,0], ecc[2,0]])) // d_xyz) * size**np.array([2,1,0])))"
   ]
  },
  {
   "cell_type": "code",
   "execution_count": null,
   "id": "ca521edb-0f2d-429d-8095-0a71a4aeb610",
   "metadata": {},
   "outputs": [],
   "source": [
    "@njit\n",
    "def fct_index_to_counts(cli, size):\n",
    "    \n",
    "    '''\n",
    "    Convert from a list of instances of each grid cell to a list with all grid cells with their respective \n",
    "        counts of DM.\n",
    "    '''\n",
    "    \n",
    "    cl = [0 for _ in range(size**3)]\n",
    "    for i1 in cli: cl[i1] += 1\n",
    "    \n",
    "    return cl"
   ]
  },
  {
   "cell_type": "code",
   "execution_count": null,
   "id": "b143ac35-5d87-48ec-a3b6-4cd990ad67db",
   "metadata": {},
   "outputs": [],
   "source": [
    "def fct_list_to_grid(data_list, size):\n",
    "    \n",
    "    \n",
    "    '''\n",
    "    Convert a list of cell indices representing a DM particle's position into a grid of their counts in each cell.\n",
    "    '''\n",
    "    \n",
    "    grid = np.zeros((size,size,size))\n",
    "    \n",
    "    for i, j, k in ((a,b,c) for a in range(size) for b in range(size) for c in range(size)): grid[i][j][k] = data_list[size**2*i + size*j + k]\n",
    "    \n",
    "    return grid"
   ]
  },
  {
   "cell_type": "markdown",
   "id": "e03aa2cf-48d0-497d-8b45-21c9213c74aa",
   "metadata": {},
   "source": [
    "---\n",
    "---\n",
    "---"
   ]
  }
 ],
 "metadata": {
  "kernelspec": {
   "display_name": "Python 3 (ipykernel)",
   "language": "python",
   "name": "python3"
  },
  "language_info": {
   "codemirror_mode": {
    "name": "ipython",
    "version": 3
   },
   "file_extension": ".py",
   "mimetype": "text/x-python",
   "name": "python",
   "nbconvert_exporter": "python",
   "pygments_lexer": "ipython3",
   "version": "3.12.5"
  }
 },
 "nbformat": 4,
 "nbformat_minor": 5
}
