{
 "cells": [
  {
   "cell_type": "code",
   "execution_count": null,
   "id": "7ae82bbd-8f23-4cdd-9a03-5e293d218ff3",
   "metadata": {},
   "outputs": [],
   "source": [
    "import pickle as pkl\n",
    "import numpy as np"
   ]
  },
  {
   "cell_type": "markdown",
   "id": "201054c1-9ef8-42c6-9f6a-57b1d988cf16",
   "metadata": {},
   "source": [
    "---\n",
    "---\n",
    "---"
   ]
  },
  {
   "cell_type": "code",
   "execution_count": null,
   "id": "76728471-bbd2-4539-a99d-fb6ef59a6d65",
   "metadata": {},
   "outputs": [],
   "source": [
    "def layer_fct(grid_fft, level):\n",
    "    \n",
    "    '''\n",
    "    The complete function for layering.\n",
    "    '''\n",
    "\n",
    "    level -= 1\n",
    "    \n",
    "    # Make a cube leveled on the log scale for all the steps (even if some are empty).\n",
    "    grid_fft_log10     = np.log10(grid_fft)\n",
    "    grid_fft_log10    -= np.min(grid_fft_log10)\n",
    "    grid_leveled_skips = grid_fft_log10 // (np.max(grid_fft_log10) / (level*(1+1/level**2)))\n",
    "    \n",
    "    # Remove any empty levels and make the counting continuous (w.r.t. integers).\n",
    "    value_map = {value: i for i, value in enumerate(np.unique(grid_leveled_skips))}\n",
    "    grid_lvld = np.vectorize(value_map.get)(grid_leveled_skips)\n",
    "    \n",
    "    return grid_lvld"
   ]
  },
  {
   "cell_type": "markdown",
   "id": "99e4d559-81ab-48fa-81f4-fd17f32a727a",
   "metadata": {},
   "source": [
    "---\n",
    "---\n",
    "---"
   ]
  }
 ],
 "metadata": {
  "kernelspec": {
   "display_name": "Python 3 (ipykernel)",
   "language": "python",
   "name": "python3"
  },
  "language_info": {
   "codemirror_mode": {
    "name": "ipython",
    "version": 3
   },
   "file_extension": ".py",
   "mimetype": "text/x-python",
   "name": "python",
   "nbconvert_exporter": "python",
   "pygments_lexer": "ipython3",
   "version": "3.12.5"
  }
 },
 "nbformat": 4,
 "nbformat_minor": 5
}
