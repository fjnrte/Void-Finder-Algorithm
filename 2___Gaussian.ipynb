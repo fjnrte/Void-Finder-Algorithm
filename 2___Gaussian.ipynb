{
 "cells": [
  {
   "cell_type": "code",
   "execution_count": null,
   "id": "86df9dc3-db59-4eaf-bc6c-95c3a22c564d",
   "metadata": {
    "editable": true,
    "slideshow": {
     "slide_type": ""
    },
    "tags": [
     "parameters"
    ]
   },
   "outputs": [],
   "source": [
    "sigma_c       = None\n",
    "file_path_zP  = None\n",
    "file_path_Sgm = None"
   ]
  },
  {
   "cell_type": "code",
   "execution_count": null,
   "id": "b3ae6e53-0e0a-4328-92ec-c20be1c4017f",
   "metadata": {},
   "outputs": [],
   "source": [
    "%run ./2___Gaussian___Functions.ipynb"
   ]
  },
  {
   "cell_type": "markdown",
   "id": "29c14655",
   "metadata": {
    "editable": true,
    "slideshow": {
     "slide_type": ""
    },
    "tags": []
   },
   "source": [
    "---\n",
    "---\n",
    "---"
   ]
  },
  {
   "cell_type": "markdown",
   "id": "b640888c-5f0f-4dbd-9ec8-b70c7cc35150",
   "metadata": {
    "editable": true,
    "slideshow": {
     "slide_type": ""
    },
    "tags": []
   },
   "source": [
    "### Open data"
   ]
  },
  {
   "cell_type": "code",
   "execution_count": null,
   "id": "3e6ed24d-7328-42b9-a5c6-f423648c8ba7",
   "metadata": {
    "editable": true,
    "slideshow": {
     "slide_type": ""
    },
    "tags": []
   },
   "outputs": [],
   "source": [
    "with open(file_path_zP+\"grid.pk\", 'rb') as f: grid = pkl.load(f)"
   ]
  },
  {
   "cell_type": "markdown",
   "id": "afe183d0",
   "metadata": {
    "editable": true,
    "slideshow": {
     "slide_type": ""
    },
    "tags": []
   },
   "source": [
    "### FFT & Smoothing & Inverse FFT\n",
    "\n",
    "Worry not! The Gaussian filtering does work over the edges! So we are actually mandated to perform this step without an edge."
   ]
  },
  {
   "cell_type": "code",
   "execution_count": null,
   "id": "19e48361",
   "metadata": {
    "editable": true,
    "slideshow": {
     "slide_type": ""
    },
    "tags": []
   },
   "outputs": [],
   "source": [
    "grid_fft = ifftn(fourier_gaussian(fftn(grid), sigma=sigma_c)).real"
   ]
  },
  {
   "cell_type": "markdown",
   "id": "16672d68",
   "metadata": {
    "editable": true,
    "slideshow": {
     "slide_type": ""
    },
    "tags": []
   },
   "source": [
    "###  Norm"
   ]
  },
  {
   "cell_type": "code",
   "execution_count": null,
   "id": "411c6683",
   "metadata": {
    "editable": true,
    "slideshow": {
     "slide_type": ""
    },
    "tags": []
   },
   "outputs": [],
   "source": [
    "grid_fft *= np.sum(grid) / np.sum(grid_fft)"
   ]
  },
  {
   "cell_type": "markdown",
   "id": "f15efc8c-5808-4083-90e8-699519493e54",
   "metadata": {},
   "source": [
    "## Truncation\n",
    "\n",
    "Since we will work on a logarithmic scale and since our upper range of values is extremely high ($>10^3$ in density units) with no important information in values below unity, we truncate our grid's values.\n",
    "\n",
    "However, values much smaller than unity do signal that we have an empty cell, so we must preserve that information.\n",
    "\n",
    "Thus, we truncate values below 0.1, giving us a full logarithmic length (one power of 10) for later plotting (linthresh=0.1).\n",
    "\n",
    "**This is only done for the grid containing density values, not mass ones! We must remain consistent!**"
   ]
  },
  {
   "cell_type": "code",
   "execution_count": null,
   "id": "8ca89866-458b-4b3a-9502-29a077f726c8",
   "metadata": {},
   "outputs": [],
   "source": [
    "grid_fft[grid_fft < 0.1] = 0.1"
   ]
  },
  {
   "cell_type": "code",
   "execution_count": null,
   "id": "3635c9b8-9cbd-45c9-98a2-923bc9ff60ea",
   "metadata": {
    "editable": true,
    "slideshow": {
     "slide_type": ""
    },
    "tags": []
   },
   "outputs": [],
   "source": [
    "with open(file_path_Sgm+\"grid_fft.pk\", 'wb') as f: pkl.dump(grid_fft, f)"
   ]
  },
  {
   "cell_type": "markdown",
   "id": "f9cec9d9-4de3-4991-aefe-4477d934d5d4",
   "metadata": {
    "editable": true,
    "slideshow": {
     "slide_type": ""
    },
    "tags": []
   },
   "source": [
    "---\n",
    "---\n",
    "---"
   ]
  }
 ],
 "metadata": {
  "kernelspec": {
   "display_name": "Python 3 (ipykernel)",
   "language": "python",
   "name": "python3"
  },
  "language_info": {
   "codemirror_mode": {
    "name": "ipython",
    "version": 3
   },
   "file_extension": ".py",
   "mimetype": "text/x-python",
   "name": "python",
   "nbconvert_exporter": "python",
   "pygments_lexer": "ipython3",
   "version": "3.12.5"
  }
 },
 "nbformat": 4,
 "nbformat_minor": 5
}
