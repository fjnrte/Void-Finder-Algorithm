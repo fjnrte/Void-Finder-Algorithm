{
 "cells": [
  {
   "cell_type": "code",
   "execution_count": null,
   "id": "d37560d9-4023-4a6c-99a2-f148a43930f2",
   "metadata": {
    "editable": true,
    "slideshow": {
     "slide_type": ""
    },
    "tags": [
     "parameters"
    ]
   },
   "outputs": [],
   "source": [
    "lvl           = None\n",
    "Density_uod_l = None\n",
    "file_path_Sgm = None\n",
    "file_path_Lvl = None"
   ]
  },
  {
   "cell_type": "code",
   "execution_count": null,
   "id": "ffd8e865-6e84-4ff6-83bc-2d13a0cbd570",
   "metadata": {},
   "outputs": [],
   "source": [
    "%run ./4___UOD_vals_and_lvls___Functions.ipynb"
   ]
  },
  {
   "cell_type": "code",
   "execution_count": null,
   "id": "5b9d5626-7faa-4911-9822-0fb83f8c2f05",
   "metadata": {},
   "outputs": [],
   "source": [
    "Density_uod_l = np.array(eval(Density_uod_l))"
   ]
  },
  {
   "cell_type": "markdown",
   "id": "c039bf84-4e84-45f1-82fe-bdc484e47b8d",
   "metadata": {},
   "source": [
    "---\n",
    "---\n",
    "---"
   ]
  },
  {
   "cell_type": "code",
   "execution_count": null,
   "id": "ab2fff19-94b9-4745-a3b0-125b2896f66b",
   "metadata": {},
   "outputs": [],
   "source": [
    "unique_Density_ud_l = sorted(set(interval[0] for interval in Density_uod_l))\n",
    "unique_Density_od_l = sorted(set(interval[1] for interval in Density_uod_l))"
   ]
  },
  {
   "cell_type": "markdown",
   "id": "d3227130-222a-4536-98df-dcacfe6b0cec",
   "metadata": {},
   "source": [
    "### CDF fit"
   ]
  },
  {
   "cell_type": "code",
   "execution_count": null,
   "id": "59f6038d-f948-43dd-8c7e-a42c1fbd3a95",
   "metadata": {},
   "outputs": [],
   "source": [
    "with open(file_path_Sgm+\"grid_fft.pk\",  'rb') as f: grid_fft = pkl.load(f)"
   ]
  },
  {
   "cell_type": "code",
   "execution_count": null,
   "id": "b2f7a211-0621-4015-adc3-2849bac9f0c7",
   "metadata": {},
   "outputs": [],
   "source": [
    "data = np.log10(grid_fft).flatten()\n",
    "x_vals = np.linspace(data.min(), data.max(), 10**4)"
   ]
  },
  {
   "cell_type": "code",
   "execution_count": null,
   "id": "8c1cb735-6b6c-45b8-9072-d1a53ede9f36",
   "metadata": {},
   "outputs": [],
   "source": [
    "del grid_fft; gc.collect()"
   ]
  },
  {
   "cell_type": "code",
   "execution_count": null,
   "id": "b15eb786-7523-4b0d-854d-1c31f11d32a1",
   "metadata": {},
   "outputs": [],
   "source": [
    "density_vals = fastKDE_pdf(data)\n",
    "\n",
    "x_grid = np.linspace(data.min(), data.max(), len(density_vals))\n",
    "\n",
    "density_vals_interp = np.interp(x_vals, x_grid, density_vals)\n",
    "density_vals_interp /= np.sum(density_vals_interp)"
   ]
  },
  {
   "cell_type": "code",
   "execution_count": null,
   "id": "8bfb6bf6-2df8-4de7-96d1-9a3a8e1e6a57",
   "metadata": {},
   "outputs": [],
   "source": [
    "cdf_vals = cumulative_trapezoid(density_vals_interp, x_vals, initial=0)\n",
    "cdf_vals /= cdf_vals[-1]"
   ]
  },
  {
   "cell_type": "code",
   "execution_count": null,
   "id": "fa869d03-4736-4b19-90e3-cc6a60b4ef34",
   "metadata": {},
   "outputs": [],
   "source": [
    "del data, density_vals, density_vals_interp; gc.collect()"
   ]
  },
  {
   "cell_type": "markdown",
   "id": "e870818c-dd96-4e28-b992-18818496eed7",
   "metadata": {},
   "source": [
    "## Values (FFT)"
   ]
  },
  {
   "cell_type": "code",
   "execution_count": null,
   "id": "ee2f7227-664a-4a5d-bcbc-4bb0a913fdb0",
   "metadata": {},
   "outputs": [],
   "source": [
    "ud_vals = []; od_vals = []\n",
    "\n",
    "i0 = 0\n",
    "for i, ii in enumerate(cdf_vals):\n",
    "    if ii >= unique_Density_ud_l[i0]:\n",
    "        ud_vals.append(mfloor(10**x_vals[i]*10**3)/10**3)\n",
    "        i0 += 1\n",
    "    if i0 == len(unique_Density_ud_l): break\n",
    "\n",
    "i0 = 0\n",
    "for i, ii in enumerate(cdf_vals[::-1]):\n",
    "    if ii <= unique_Density_od_l[::-1][i0]:\n",
    "        od_vals.append(mceil(10**x_vals[::-1][i]*10**3)/10**3)\n",
    "        i0 += 1\n",
    "    if i0 == len(unique_Density_od_l): break"
   ]
  },
  {
   "cell_type": "markdown",
   "id": "7f4d2ca1-de02-4950-a52c-30e294f8ac08",
   "metadata": {},
   "source": [
    "## Levels"
   ]
  },
  {
   "cell_type": "code",
   "execution_count": null,
   "id": "9a738588-131f-4ac6-b070-84a3b09e693d",
   "metadata": {},
   "outputs": [],
   "source": [
    "with open(file_path_Sgm+\"grid_fft.pk\",  'rb') as f: grid_fft  = pkl.load(f)\n",
    "with open(file_path_Lvl+\"grid_lvld.pk\", 'rb') as f: grid_lvld = pkl.load(f)"
   ]
  },
  {
   "cell_type": "code",
   "execution_count": null,
   "id": "1368db10-3dfe-4425-8432-63b17ceff22a",
   "metadata": {},
   "outputs": [],
   "source": [
    "ud_lvls = []\n",
    "grid_ud = np.full(grid_lvld.shape, False)\n",
    "ud_lvl = 0\n",
    "\n",
    "for ud_val in ud_vals:\n",
    "    grid_ud[grid_fft <= ud_val] = True\n",
    "    if np.max(grid_ud): ud_lvl = np.max(grid_lvld[grid_ud])\n",
    "    ud_lvls.append(ud_lvl)"
   ]
  },
  {
   "cell_type": "code",
   "execution_count": null,
   "id": "838f1024-f13d-4d20-ab86-ed76eacc978f",
   "metadata": {},
   "outputs": [],
   "source": [
    "del grid_ud; gc.collect()"
   ]
  },
  {
   "cell_type": "code",
   "execution_count": null,
   "id": "9227789c-de94-472a-b8b5-75fe97660233",
   "metadata": {},
   "outputs": [],
   "source": [
    "od_lvls = []\n",
    "grid_od = np.full(grid_lvld.shape, False)\n",
    "od_lvl = lvl\n",
    "\n",
    "for od_val in od_vals:\n",
    "    grid_od[od_val <= grid_fft] = True\n",
    "    if np.max(grid_od): od_lvl = np.min(grid_lvld[grid_od])\n",
    "    od_lvls.append(od_lvl)"
   ]
  },
  {
   "cell_type": "code",
   "execution_count": null,
   "id": "dbd000c6-512a-4464-8266-52b41860ea71",
   "metadata": {},
   "outputs": [],
   "source": [
    "del grid_od; gc.collect()"
   ]
  },
  {
   "cell_type": "markdown",
   "id": "af882ea6-0a3d-4907-b091-c0110702f299",
   "metadata": {},
   "source": [
    "## Save the Data"
   ]
  },
  {
   "cell_type": "code",
   "execution_count": null,
   "id": "52e904b7-9c00-4d0e-a1b0-c619ad673541",
   "metadata": {},
   "outputs": [],
   "source": [
    "for d,Density_ud in enumerate(unique_Density_ud_l):\n",
    "    with open(file_path_Lvl+\"ud_val___\"+str(Density_ud)+\".pk\", 'wb') as f: pkl.dump(ud_vals[d], f)\n",
    "    with open(file_path_Lvl+\"ud_lvl___\"+str(Density_ud)+\".pk\", 'wb') as f: pkl.dump(ud_lvls[d], f)\n",
    "\n",
    "for d,Density_od in enumerate(unique_Density_od_l[::-1]):\n",
    "    with open(file_path_Lvl+\"od_val___\"+str(Density_od)+\".pk\", 'wb') as f: pkl.dump(od_vals[d], f)\n",
    "    with open(file_path_Lvl+\"od_lvl___\"+str(Density_od)+\".pk\", 'wb') as f: pkl.dump(od_lvls[d], f)"
   ]
  },
  {
   "cell_type": "markdown",
   "id": "1833dc70-97b7-4ade-a04e-345fc8991bee",
   "metadata": {},
   "source": [
    "The idea is that now we can check which levels are below that threshold and just sort all of their elements and not ned to look for pair origins outside of that range (which takes a lot of time) nor, in the next notebooks, look for pairs within remaining levels (also a huge amount of computaitonal time)."
   ]
  },
  {
   "cell_type": "markdown",
   "id": "9d391ad5-1b92-497b-96c0-187895e3fdb0",
   "metadata": {},
   "source": [
    "---\n",
    "---\n",
    "---"
   ]
  }
 ],
 "metadata": {
  "kernelspec": {
   "display_name": "Python 3 (ipykernel)",
   "language": "python",
   "name": "python3"
  },
  "language_info": {
   "codemirror_mode": {
    "name": "ipython",
    "version": 3
   },
   "file_extension": ".py",
   "mimetype": "text/x-python",
   "name": "python",
   "nbconvert_exporter": "python",
   "pygments_lexer": "ipython3",
   "version": "3.12.5"
  }
 },
 "nbformat": 4,
 "nbformat_minor": 5
}
