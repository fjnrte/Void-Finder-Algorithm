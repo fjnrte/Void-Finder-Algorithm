{
 "cells": [
  {
   "cell_type": "code",
   "execution_count": null,
   "id": "cbb92c09-5a14-40e6-86f7-9749c798a32e",
   "metadata": {
    "editable": true,
    "slideshow": {
     "slide_type": ""
    },
    "tags": [
     "parameters"
    ]
   },
   "outputs": [],
   "source": [
    "lvl           = None\n",
    "file_path_Sgm = None\n",
    "file_path_Lvl = None"
   ]
  },
  {
   "cell_type": "code",
   "execution_count": null,
   "id": "c0637a26",
   "metadata": {
    "editable": true,
    "slideshow": {
     "slide_type": ""
    },
    "tags": []
   },
   "outputs": [],
   "source": [
    "%run ./3___Layer___Functions.ipynb"
   ]
  },
  {
   "cell_type": "markdown",
   "id": "b928ce7c",
   "metadata": {},
   "source": [
    "---\n",
    "---\n",
    "---"
   ]
  },
  {
   "cell_type": "markdown",
   "id": "4550202e-2226-470d-9792-f1b1cc5c9001",
   "metadata": {},
   "source": [
    "### Open data"
   ]
  },
  {
   "cell_type": "code",
   "execution_count": null,
   "id": "0bd8517b-ecc4-4940-b004-75830eb081cb",
   "metadata": {
    "editable": true,
    "slideshow": {
     "slide_type": ""
    },
    "tags": []
   },
   "outputs": [],
   "source": [
    "with open(file_path_Sgm+\"grid_fft.pk\", 'rb') as f: grid_fft = pkl.load(f)"
   ]
  },
  {
   "cell_type": "markdown",
   "id": "827f4cf2-08f7-4138-a0d8-a9b7adcccd81",
   "metadata": {},
   "source": [
    "### Layer\n",
    "\n",
    "First, since we use a logarithmic partioning, we must eliminate all empty cells. To keep track of them, however, we implement a minimum density.\n",
    "\n",
    "This was done in the previous notebook, with the $< 0.1$ truncation.\n",
    "\n",
    "This might sound like we limit our lowest rug sensitivity, but this is only to facilitate the leveling, where all these cells will be in the same level regardless, so it is just an intermediary step with no loss of information (aside from the previous arguments for why no information is lost)."
   ]
  },
  {
   "cell_type": "code",
   "execution_count": null,
   "id": "5398141e-df57-4e82-83d8-28049e3c9ef6",
   "metadata": {},
   "outputs": [],
   "source": [
    "grid_lvld = layer_fct(grid_fft, lvl)"
   ]
  },
  {
   "cell_type": "code",
   "execution_count": null,
   "id": "766b2ad4",
   "metadata": {},
   "outputs": [],
   "source": [
    "with open(file_path_Lvl+\"grid_lvld.pk\", 'wb') as f: pkl.dump(grid_lvld, f)"
   ]
  },
  {
   "cell_type": "markdown",
   "id": "5812af1b",
   "metadata": {},
   "source": [
    "---\n",
    "---\n",
    "---"
   ]
  }
 ],
 "metadata": {
  "kernelspec": {
   "display_name": "Python 3 (ipykernel)",
   "language": "python",
   "name": "python3"
  },
  "language_info": {
   "codemirror_mode": {
    "name": "ipython",
    "version": 3
   },
   "file_extension": ".py",
   "mimetype": "text/x-python",
   "name": "python",
   "nbconvert_exporter": "python",
   "pygments_lexer": "ipython3",
   "version": "3.12.5"
  }
 },
 "nbformat": 4,
 "nbformat_minor": 5
}
