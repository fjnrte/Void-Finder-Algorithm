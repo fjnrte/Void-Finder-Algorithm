{
 "cells": [
  {
   "cell_type": "code",
   "execution_count": null,
   "id": "5bd92492-ee5a-45fc-9d2a-4e6b082fe5ee",
   "metadata": {},
   "outputs": [],
   "source": [
    "import gc\n",
    "import pickle as pkl\n",
    "import numpy as np\n",
    "from math import floor as mfloor\n",
    "from math import ceil  as mceil\n",
    "\n",
    "from fastkde.fastKDE import pdf as fastKDE_pdf\n",
    "from scipy.integrate import cumulative_trapezoid"
   ]
  },
  {
   "cell_type": "markdown",
   "id": "3816fea6-ca08-4037-a0cb-500572fc293d",
   "metadata": {},
   "source": [
    "---\n",
    "---\n",
    "---"
   ]
  }
 ],
 "metadata": {
  "kernelspec": {
   "display_name": "Python 3 (ipykernel)",
   "language": "python",
   "name": "python3"
  },
  "language_info": {
   "codemirror_mode": {
    "name": "ipython",
    "version": 3
   },
   "file_extension": ".py",
   "mimetype": "text/x-python",
   "name": "python",
   "nbconvert_exporter": "python",
   "pygments_lexer": "ipython3",
   "version": "3.12.5"
  }
 },
 "nbformat": 4,
 "nbformat_minor": 5
}
