{
 "cells": [
  {
   "cell_type": "code",
   "execution_count": null,
   "id": "48c8414b-0081-47dd-8ea8-b57a058c96c8",
   "metadata": {
    "editable": true,
    "slideshow": {
     "slide_type": ""
    },
    "tags": [
     "parameters"
    ]
   },
   "outputs": [],
   "source": [
    "basePath     = None\n",
    "size         = None\n",
    "zno          = None\n",
    "ecc          = None\n",
    "d_xyz        = None\n",
    "file_path_zP = None\n",
    "m_DM         = None"
   ]
  },
  {
   "cell_type": "code",
   "execution_count": null,
   "id": "1d681f10-4a15-428e-9c90-a296609f82ec",
   "metadata": {},
   "outputs": [],
   "source": [
    "%run ./1___Cube___Functions.ipynb"
   ]
  },
  {
   "cell_type": "code",
   "execution_count": null,
   "id": "ee190295-ed5c-442c-823e-c4ed97a23d52",
   "metadata": {},
   "outputs": [],
   "source": [
    "ecc = np.array(eval(ecc))"
   ]
  },
  {
   "cell_type": "markdown",
   "id": "06c7433e",
   "metadata": {
    "editable": true,
    "slideshow": {
     "slide_type": ""
    },
    "tags": []
   },
   "source": [
    "---\n",
    "---\n",
    "---"
   ]
  },
  {
   "cell_type": "markdown",
   "id": "bf7f31f9",
   "metadata": {},
   "source": [
    "### Open original data"
   ]
  },
  {
   "cell_type": "code",
   "execution_count": null,
   "id": "9d180726-890b-42a9-be75-64f853ac29b1",
   "metadata": {},
   "outputs": [],
   "source": [
    "data = illustris_load(basePath+\"/Original_Data\",zno,'dm',fields=['Coordinates'])   # cube non-grid"
   ]
  },
  {
   "cell_type": "markdown",
   "id": "f5a01193",
   "metadata": {},
   "source": [
    "### Cut data (if we don't look at the whole cube)"
   ]
  },
  {
   "cell_type": "code",
   "execution_count": null,
   "id": "3534e348-558b-4e82-bde9-b4f011343156",
   "metadata": {},
   "outputs": [],
   "source": [
    "if not np.array_equal(ecc, 1000*np.array([[0,75], [0,75], [0,75]])): data = region_cut(data, ecc)"
   ]
  },
  {
   "cell_type": "markdown",
   "id": "ddfb2605",
   "metadata": {
    "editable": true,
    "slideshow": {
     "slide_type": ""
    },
    "tags": []
   },
   "source": [
    "### Convert coord to cell index  -->  Count index occurances = Get counts --> (Sum to) convert to grid density\n",
    "\n",
    "*By not nesting the functions below, we save ~1.5Gb RAM for the 256 frames."
   ]
  },
  {
   "cell_type": "code",
   "execution_count": null,
   "id": "9e1aaf57-ecbe-40cd-b7e4-c488a3b0df2e",
   "metadata": {},
   "outputs": [],
   "source": [
    "data = [fct_coord_to_index(i, ecc, d_xyz, size) for i in data]\n",
    "data = fct_index_to_counts(data, size)\n",
    "data = fct_list_to_grid(data, size) * m_DM/(d_xyz/1000)**3"
   ]
  },
  {
   "cell_type": "code",
   "execution_count": null,
   "id": "fd8509d2-750e-4559-907b-a2f50d750c07",
   "metadata": {
    "editable": true,
    "slideshow": {
     "slide_type": ""
    },
    "tags": []
   },
   "outputs": [],
   "source": [
    "with open(file_path_zP+\"grid.pk\", 'wb') as f: pkl.dump(data, f)"
   ]
  },
  {
   "cell_type": "markdown",
   "id": "fc715c85",
   "metadata": {},
   "source": [
    "---\n",
    "---\n",
    "---"
   ]
  }
 ],
 "metadata": {
  "kernelspec": {
   "display_name": "Python 3 (ipykernel)",
   "language": "python",
   "name": "python3"
  },
  "language_info": {
   "codemirror_mode": {
    "name": "ipython",
    "version": 3
   },
   "file_extension": ".py",
   "mimetype": "text/x-python",
   "name": "python",
   "nbconvert_exporter": "python",
   "pygments_lexer": "ipython3",
   "version": "3.12.5"
  }
 },
 "nbformat": 4,
 "nbformat_minor": 5
}
