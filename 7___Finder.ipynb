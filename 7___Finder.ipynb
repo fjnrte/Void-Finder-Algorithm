{
 "cells": [
  {
   "cell_type": "code",
   "execution_count": null,
   "id": "08cc0404-2329-435d-99e5-8c9a49ce31eb",
   "metadata": {
    "editable": true,
    "slideshow": {
     "slide_type": ""
    },
    "tags": [
     "parameters"
    ]
   },
   "outputs": [],
   "source": [
    "MK                 = None\n",
    "save_perc          = None\n",
    "Density_ud         = None\n",
    "Density_od         = None\n",
    "times_we_tried_max = None\n",
    "file_path_Lvl      = None\n",
    "file_path_MK       = None"
   ]
  },
  {
   "cell_type": "code",
   "execution_count": null,
   "id": "f39ffb94-4f39-454d-9cdf-85aed1aa2f66",
   "metadata": {},
   "outputs": [],
   "source": [
    "%run ./7___Finder___Functions.ipynb"
   ]
  },
  {
   "cell_type": "markdown",
   "id": "c4e36b5a-d1f8-4d33-8414-9d2c373081bd",
   "metadata": {},
   "source": [
    "---\n",
    "---\n",
    "---"
   ]
  },
  {
   "cell_type": "markdown",
   "id": "9081ff7c-2900-48b0-b0fa-47b4844589f8",
   "metadata": {},
   "source": [
    "### Load dictionaries"
   ]
  },
  {
   "cell_type": "code",
   "execution_count": null,
   "id": "c49b543b-bbba-4adf-9a19-3d3054295ec2",
   "metadata": {},
   "outputs": [],
   "source": [
    "with open(file_path_Lvl+\"grid_lvld.pk\", 'rb') as f: grid_lvld = pkl.load(f)\n",
    "size = grid_lvld.shape[0]"
   ]
  },
  {
   "cell_type": "code",
   "execution_count": null,
   "id": "25e57869-9f50-45ae-b6ee-6fb339524d3f",
   "metadata": {},
   "outputs": [],
   "source": [
    "with open(file_path_Lvl+\"ud_lvl___\"+str(Density_ud)+\".pk\", 'rb') as f: ud_lvl                = pkl.load(f)\n",
    "with open(file_path_Lvl+\"od_lvl___\"+str(Density_od)+\".pk\", 'rb') as f: od_lvl                = pkl.load(f)\n",
    "\n",
    "with open(file_path_Lvl+\"dict_origins_isolated.pk\",        'rb') as f: dict_origins_isolated = pkl.load(f)\n",
    "with open(file_path_Lvl+\"dict_origins_pairs.pk\",           'rb') as f: dict_origins_pairs    = pkl.load(f)\n",
    "lvl = len(dict_origins_isolated)"
   ]
  },
  {
   "cell_type": "markdown",
   "id": "c2c85ead-03f1-487f-828a-b5faeca3d087",
   "metadata": {},
   "source": [
    "---"
   ]
  },
  {
   "cell_type": "markdown",
   "id": "5256e27f-f526-4cc9-8d32-803c3a6a85dd",
   "metadata": {},
   "source": [
    "### Voids to be merged"
   ]
  },
  {
   "cell_type": "code",
   "execution_count": null,
   "id": "6cf3d43b-6fbe-49e5-8344-b0f17cdb6456",
   "metadata": {},
   "outputs": [],
   "source": [
    "# Filled grid - with the indices of each void\n",
    "fg = np.zeros((size, size, size), dtype=int) - 1"
   ]
  },
  {
   "cell_type": "code",
   "execution_count": null,
   "id": "24a58e6c-ad3b-43be-bcb2-4e3eb3f589ed",
   "metadata": {},
   "outputs": [],
   "source": [
    "void_index_od = 0\n",
    "found_merge = False\n",
    "\n",
    "void_index = -1\n",
    "for lvl_i in range(lvl):\n",
    "\n",
    "    if len(dict_origins_isolated[lvl_i]) != 0:\n",
    "        for isolated_i in dict_origins_isolated[lvl_i]:\n",
    "            void_index += 1\n",
    "            fg[tuple(isolated_i)] = void_index\n",
    "            if (not found_merge) and (od_lvl < lvl_i):\n",
    "                void_index_od = void_index\n",
    "                found_merge = True\n",
    "\n",
    "    if MK == \"MK2\":\n",
    "        if len(dict_origins_pairs[lvl_i]) != 0:\n",
    "            for pairs_i in dict_origins_pairs[lvl_i]:\n",
    "                void_index += 1\n",
    "                for pairs_ij in pairs_i:\n",
    "                    fg[tuple(pairs_ij)] = void_index\n",
    "                if (not found_merge) and (od_lvl < lvl_i):\n",
    "                    void_index_od = void_index\n",
    "                    found_merge = True\n",
    "\n",
    "no_voids = np.max(fg)+1"
   ]
  },
  {
   "cell_type": "code",
   "execution_count": null,
   "id": "653f73d0-9904-4d6c-9f54-4ace0887603d",
   "metadata": {},
   "outputs": [],
   "source": [
    "with open(file_path_MK+\"fg___0.pk\", 'wb') as f: pkl.dump(fg, f)"
   ]
  },
  {
   "cell_type": "markdown",
   "id": "0591a4d3-ee46-4030-a868-cca31f268e24",
   "metadata": {},
   "source": [
    "---"
   ]
  },
  {
   "cell_type": "code",
   "execution_count": null,
   "id": "311375b7-055a-4b9c-9ca3-ab7648be0767",
   "metadata": {},
   "outputs": [],
   "source": [
    "ratio_perc = 100\n",
    "lvl_perc   = lvl // ratio_perc\n",
    "\n",
    "# We found this to be a good limit given our RAM.\n",
    "max_lvls_per_list = round(lvl / 100 * (512/size)**3)\n",
    "no_lists = lvl // max_lvls_per_list + (1 if (lvl % max_lvls_per_list)!=0 else 0)"
   ]
  },
  {
   "cell_type": "code",
   "execution_count": null,
   "id": "73b39402-a734-4880-882b-9df26ca92ec7",
   "metadata": {},
   "outputs": [],
   "source": [
    "ran_out_of_ods = False\n",
    "\n",
    "for i in range(no_lists):\n",
    "    \n",
    "    with open(file_path_Lvl+\"dict_cells_isolated/\"+str(i)+\".pk\", 'rb') as f: dict_cells_isolated = pkl.load(f)\n",
    "    with open(file_path_Lvl+\"dict_cells_pairs/\"+str(i)   +\".pk\", 'rb') as f: dict_cells_pairs    = pkl.load(f)\n",
    "    \n",
    "    start_lvl = max_lvls_per_list*i\n",
    "    end_lvl   = np.min([max_lvls_per_list*(i+1), lvl])\n",
    "    for current_lvl in range(start_lvl, end_lvl):\n",
    "        \n",
    "        ud = False; od = False\n",
    "        if current_lvl < ud_lvl:\n",
    "            ud = True\n",
    "\n",
    "        # Also, if we ran out of od's, no use in checkign for od connections or expecting them to save leftover pair cells.\n",
    "        if not ran_out_of_ods:\n",
    "            if current_lvl > od_lvl:\n",
    "                if np.max(fg) >= void_index_od:\n",
    "                    od = True\n",
    "\n",
    "        # List of all neighbor values of each od void... where we limit ourselves to 1 for practical purposes (more than\n",
    "        #     2 we use them as pairs).\n",
    "        #   -1 - no neighbor / already solved this one\n",
    "        # >= 0 - the index of the one void\n",
    "        #   -2 - multiple neighbors\n",
    "        od_connections_all_val = np.array([-1 for _ in range(no_voids-void_index_od+1)])\n",
    "        \n",
    "        # First, we remove all isolated origins from the level isolated dict.\n",
    "        for i0 in dict_origins_isolated[current_lvl]: dict_cells_isolated[current_lvl].remove(i0)\n",
    "\n",
    "        # MK1: remove pair cells\n",
    "        # Our separation of isolated and pair origins is one of the trademarks of MK2. So is the\n",
    "        #     non-random peeling process. Thus, in MK1 we add all the pairs of cells from each level\n",
    "        #     into the isolated dict and we empty the pair origins dict.\n",
    "        if MK == \"MK1\":\n",
    "            for pairs_i in dict_cells_pairs[current_lvl]:\n",
    "                for pairs_ij in pairs_i:\n",
    "                    dict_cells_isolated[current_lvl].append(pairs_ij)\n",
    "            dict_cells_pairs[  current_lvl] = []\n",
    "            dict_origins_pairs[current_lvl] = []\n",
    "\n",
    "        # For MK2, we remove all pair origins from the level dict.\n",
    "        else:\n",
    "            for pairs_i in dict_origins_pairs[current_lvl]:\n",
    "                dict_cells_pairs[current_lvl] = [coords for coords in dict_cells_pairs[current_lvl] \n",
    "                                                 if set(map(tuple, coords)) != set(map(tuple, pairs_i))]\n",
    "            \n",
    "            # If we're before our under density level, all cells are distributed at random, since\n",
    "            #     any difference the peeling process could make matters only in the walls, but now\n",
    "            #     there are no walls since the voids merge.\n",
    "            if ud:\n",
    "                for i0 in dict_cells_pairs[current_lvl]:\n",
    "                    for j0 in i0: dict_cells_isolated[current_lvl].append(j0)\n",
    "                dict_cells_pairs[current_lvl] = []\n",
    "\n",
    "\n",
    "\n",
    "\n",
    "        # RUN THE FINDER\n",
    "        \n",
    "        # Before we start, how do we deal with potholes?\n",
    "        # A pothole is an od void that essentially we need to consider as a pothole that we need to fill up to the \n",
    "        #     current level and then let non-od voids fill it in as they touch it.\n",
    "        # - If one void touches it in a level, then the whole od void becomes part of it.\n",
    "        # - If multiple voids touch it in a level, then we need to consider that void as a pothole filled up to that\n",
    "        #     level and that now we run loop_pairs on it.\n",
    "\n",
    "        # BUT WE CAN'T KNOW A PRIORI IF AN OD VOID ONLY TOUCHES ONE VOID (by the end of the level).\n",
    "        # This statement is the foundation for the following procedure in managing od's.\n",
    "\n",
    "        # To achieve, this, we must fist run the whole level (isolated and pairs cells) and see which od voids are connected.\n",
    "        # Of course, if two od voids neighbor each-other, they must first be merged (and all the connections of the later)\n",
    "        #     now become part of the former's.\n",
    "\n",
    "        # Sure, ideally, it would be best if we would find a connection within a pair and then start going into the od with the\n",
    "        #     regular void. Otherwise, we give the other voids that have a longer path through this pair a head-start: it's like\n",
    "        #     they have an fair race through the path, but it doesn't matter which one reached the od first, they all start\n",
    "        #     chewing through it at the same time.\n",
    "        # This is true... but the effect is generally small and the times this occurs are rare at most... and implementing an\n",
    "        #     ideal code would require to do the isolated ones like above, then run all pairs for one peel, stop, check for \n",
    "        #     connections, then merge all isolated and/or pair cells to the (possibly multiple) od('s), then repeat this \n",
    "        #     stop-and-go for every peel (which is now for all pairs at once). All this would add so much processing time for\n",
    "        #     little to no actual benefit.\n",
    "        # Plus, this is all a matter of interpretation: what if, instead, we considered that we fill-in the od's based on the\n",
    "        #     steepness and distance from a regular's connection to it and its center... like a race to the bottom: it is \n",
    "        #     subjective (or at least a different type of paper needs to study this beforehand, but it'd most likely be a waste\n",
    "        #     of everyone's time).\n",
    "\n",
    "        \n",
    "        # We begin with the isolated cells.\n",
    "        isolated_i = np.array(dict_cells_isolated[current_lvl])\n",
    "        if len(isolated_i) != 0: loop_isolated(fg, isolated_i, od_connections_all_val, ud, od, void_index_od, MK, size)\n",
    "                \n",
    "\n",
    "        # The pair cells are a bit more tricky....\n",
    "        # First of all, if we are before the od's or we ran out of them, we can just run the regular loop_pair.\n",
    "        if not ud and MK == \"MK2\":\n",
    "            pairs = dict_cells_pairs[current_lvl]\n",
    "            if len(pairs) != 0:\n",
    "                for pairs_i in pairs:\n",
    "                    pairs_i = np.array(pairs_i)\n",
    "    \n",
    "                    # For starters, it would be a great time-saver to find-out if a pair only touches a single void... then we can\n",
    "                    #     just attribute the whole pair to it.\n",
    "                    exterior_outline_vals = check_neighbors_cube(fg, pairs_i, size, stop_after_2=False)\n",
    "    \n",
    "                    \n",
    "                    # If it touches no voids, it is isolated... becomes a wall.\n",
    "                    if   len(exterior_outline_vals) == 0:\n",
    "                        for [i,j,k] in pairs_i: fg[i][j][k] = -2\n",
    "    \n",
    "                    # If it only touches one single (regular or od) void, it is part of that void.\n",
    "                    elif len(exterior_outline_vals) == 1:\n",
    "                        eov0 = exterior_outline_vals[0]\n",
    "                        for [i,j,k] in pairs_i: fg[i][j][k] = eov0\n",
    "    \n",
    "    \n",
    "                    # If it touches multiple voids, then it's time for loop_pairs.\n",
    "                    else:\n",
    "                        \n",
    "                        if not od:\n",
    "                            loop_pairs(fg, pairs_i, od_connections_all_val, size, False, void_index_od, times_we_tried_max=times_we_tried_max)\n",
    "                        \n",
    "                        else:\n",
    "                            # If we have od's, then it gets tricky...\n",
    "                            # We perform the same counting of neighbors as above, but now we separate them into regualr and ods.\n",
    "                            # There are many such cases and below we list them all.\n",
    "        \n",
    "        \n",
    "                            \n",
    "                            # Get all pair's neighbors and their values.\n",
    "                            exterior_outline_vals_regular = [_ for _ in exterior_outline_vals if _ <  void_index_od]\n",
    "                            exterior_outline_vals_od      = [_ for _ in exterior_outline_vals if _ >= void_index_od]\n",
    "\n",
    "                            \n",
    "                            # If it touches multiple regular voids but no od ones, we run loop_pairs excluding the od hail Mary.\n",
    "                            if   len(exterior_outline_vals_regular) >= 2 and len(exterior_outline_vals_od) == 0:\n",
    "                                loop_pairs(fg, pairs_i, od_connections_all_val, size, False, void_index_od, times_we_tried_max=times_we_tried_max)\n",
    "            \n",
    "                            # If it touches multiple od voids but no regular ones, we simply add the pair to the first one (not that\n",
    "                            #     it matters) and merge the rest.\n",
    "                            elif len(exterior_outline_vals_regular) == 0 and len(exterior_outline_vals_od) >= 2:\n",
    "    \n",
    "                                eov0 = exterior_outline_vals_od[0]\n",
    "                                for [i,j,k] in pairs_i: fg[i][j][k] = eov0\n",
    "    \n",
    "                                for eov in exterior_outline_vals_od[1:]:\n",
    "                                    fg[fg==eov] = eov0\n",
    "                                    odcav0 = od_connections_all_val[eov0-void_index_od]\n",
    "                                    odcav  = od_connections_all_val[eov -void_index_od]\n",
    "                                    od_connections_all_val[eov-void_index_od] = -1\n",
    "                                    if odcav0 != -2:\n",
    "                                        if   odcav == -2:\n",
    "                                            od_connections_all_val[eov0-void_index_od] = -2\n",
    "                                        elif odcav >=  0:\n",
    "                                            if odcav0 == -1:\n",
    "                                                od_connections_all_val[eov0-void_index_od] = odcav\n",
    "                                            else:\n",
    "                                                od_connections_all_val[eov0-void_index_od] = -2\n",
    "    \n",
    "                            else:\n",
    "                                # But if it touches a mix of regular and od voids... we need to be careful.\n",
    "                                # We run loop_pairs essentially excluding all od voids (as if they were -1's) and only if we are left with\n",
    "                                #     some cells unresolved before the try_it_all_again process, then we look for connections with these od's.\n",
    "                                # The reason we wait so long is that it makes no difference if we include these od's or not in terms of the \n",
    "                                #     spread within the pair, with little effect on the one within the od's (see dicussion above, at the start\n",
    "                                #     of the loop_pair section), but it saves us lots of computational time.\n",
    "                                loop_pairs(fg, pairs_i, od_connections_all_val, size, True, void_index_od, times_we_tried_max=times_we_tried_max)\n",
    "\n",
    "        if od:\n",
    "            # Now that we have all od's that neighbor one or multiple regulars, we can easily sort them out.\n",
    "            for i0 in range(no_voids-void_index_od+1):\n",
    "                index0 = void_index_od+i0\n",
    "                \n",
    "                if   od_connections_all_val[i0] >=  0:\n",
    "                    # If they touch one void in this level, they become part of it.\n",
    "                    fg[fg==index0] = od_connections_all_val[i0]\n",
    "                    \n",
    "                elif od_connections_all_val[i0] == -2:\n",
    "                    # If they touch multiple, then we run loop_pair.\n",
    "                    pairs_i = np.argwhere(fg==index0)\n",
    "                    if MK == \"MK2\": loop_pairs(fg, pairs_i, od_connections_all_val, size, False, void_index_od, times_we_tried_max=1)\n",
    "                    else:           loop_isolated_leftovers(fg, pairs_i, size)\n",
    "                    od_connections_all_val[i0] = -1\n",
    "\n",
    "        # If we want to save every 1%...\n",
    "        if save_perc and ((current_lvl+1) % lvl_perc == 0) and (((current_lvl+1) // lvl_perc != ratio_perc) or (current_lvl+1 == lvl)):\n",
    "            with open(file_path_MK+\"fg___\"+str(int((current_lvl+1) // lvl_perc * 100 / ratio_perc))+\".pk\", 'wb') as f: pkl.dump(fg, f)"
   ]
  },
  {
   "cell_type": "markdown",
   "id": "ad171cf7-3526-4da2-8193-f5602dd2587c",
   "metadata": {},
   "source": [
    "---"
   ]
  },
  {
   "cell_type": "markdown",
   "id": "c9751a23-c7b7-4225-8561-577288931f8b",
   "metadata": {},
   "source": [
    "### Thin the walls"
   ]
  },
  {
   "cell_type": "code",
   "execution_count": null,
   "id": "a64ae708-48a9-491f-a308-ff9184e2e1fc",
   "metadata": {},
   "outputs": [],
   "source": [
    "walls_removed = thin_walls(fg, size)"
   ]
  },
  {
   "cell_type": "code",
   "execution_count": null,
   "id": "17dcb86b-11ae-4463-990a-141fd320acf3",
   "metadata": {},
   "outputs": [],
   "source": [
    "with open(file_path_MK+\"walls_removed.pk\", 'wb') as f: pkl.dump(walls_removed, f)"
   ]
  },
  {
   "cell_type": "markdown",
   "id": "bf9007b8-cecb-473d-bb26-32a7866fa420",
   "metadata": {},
   "source": [
    "### Leftover od's: turn into pairs"
   ]
  },
  {
   "cell_type": "code",
   "execution_count": null,
   "id": "0c71d436-0e0d-4e04-9d05-fdad96d8cd5d",
   "metadata": {},
   "outputs": [],
   "source": [
    "found_leftovers = False\n",
    "while np.max(fg) >= void_index_od:\n",
    "    found_leftovers = True\n",
    "    leftover_pairs_i = np.argwhere(fg==np.max(fg))\n",
    "    loop_pairs(fg, leftover_pairs_i, od_connections_all_val, size, False, void_index_od, times_we_tried_max=1)"
   ]
  },
  {
   "cell_type": "markdown",
   "id": "1fb1b327-6307-443a-8cff-2c2c1116c8bd",
   "metadata": {},
   "source": [
    "### Thin the walls again if we had some leftover od's"
   ]
  },
  {
   "cell_type": "code",
   "execution_count": null,
   "id": "eea8628d-0509-4cb9-aca3-a89313645582",
   "metadata": {},
   "outputs": [],
   "source": [
    "if found_leftovers: walls_removed = thin_walls(fg, size)"
   ]
  },
  {
   "cell_type": "code",
   "execution_count": null,
   "id": "590b10f7-a4b0-4861-a7bd-aeef39a2af28",
   "metadata": {},
   "outputs": [],
   "source": [
    "with open(file_path_MK+\"fg___100_thin.pk\", 'wb') as f: pkl.dump(fg, f)"
   ]
  },
  {
   "cell_type": "markdown",
   "id": "cf2004f1-3b5e-41c6-a632-44d3991482b2",
   "metadata": {},
   "source": [
    "---\n",
    "---\n",
    "---"
   ]
  }
 ],
 "metadata": {
  "kernelspec": {
   "display_name": "Python 3 (ipykernel)",
   "language": "python",
   "name": "python3"
  },
  "language_info": {
   "codemirror_mode": {
    "name": "ipython",
    "version": 3
   },
   "file_extension": ".py",
   "mimetype": "text/x-python",
   "name": "python",
   "nbconvert_exporter": "python",
   "pygments_lexer": "ipython3",
   "version": "3.12.5"
  }
 },
 "nbformat": 4,
 "nbformat_minor": 5
}
