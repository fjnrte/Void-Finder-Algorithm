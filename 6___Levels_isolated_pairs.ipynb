{
 "cells": [
  {
   "cell_type": "code",
   "execution_count": null,
   "id": "0e2c965e-763f-4b32-88a3-8381b3432c03",
   "metadata": {
    "editable": true,
    "slideshow": {
     "slide_type": ""
    },
    "tags": [
     "parameters"
    ]
   },
   "outputs": [],
   "source": [
    "lvl           = None\n",
    "file_path_Lvl = None"
   ]
  },
  {
   "cell_type": "code",
   "execution_count": null,
   "id": "6fdb6c3c",
   "metadata": {
    "editable": true,
    "slideshow": {
     "slide_type": ""
    },
    "tags": []
   },
   "outputs": [],
   "source": [
    "%run ./6___Levels_isolated_pairs___Functions.ipynb"
   ]
  },
  {
   "cell_type": "markdown",
   "id": "dab6c709",
   "metadata": {
    "editable": true,
    "slideshow": {
     "slide_type": ""
    },
    "tags": []
   },
   "source": [
    "---\n",
    "---\n",
    "---"
   ]
  },
  {
   "cell_type": "markdown",
   "id": "2a9ae983-f2f7-4b14-80f7-b6bbed11376f",
   "metadata": {},
   "source": [
    "### Find all the isolated cells\n",
    "\n",
    "We do this by checking if a cell in the leveled cube is equal to all of its neighbors by means of subtracting the offset cube 26 times."
   ]
  },
  {
   "cell_type": "code",
   "execution_count": null,
   "id": "9c0af318-1bc2-4f8d-a7ec-8999646fa452",
   "metadata": {},
   "outputs": [],
   "source": [
    "with open(file_path_Lvl+\"grid_lvld.pk\", 'rb') as f: grid_lvld = pkl.load(f)"
   ]
  },
  {
   "cell_type": "code",
   "execution_count": null,
   "id": "1e956219-90c3-4d56-9861-6f61e44869a8",
   "metadata": {},
   "outputs": [],
   "source": [
    "# Grid of all isolated cells (including origins)\n",
    "grid_lvld_isolated = np.full(grid_lvld.shape, True)\n",
    "\n",
    "for offs in offsets: grid_lvld_isolated &= (grid_lvld != shift_cube(grid_lvld, offs))"
   ]
  },
  {
   "cell_type": "markdown",
   "id": "e77c3bd1-9880-4c0e-91e4-a11311a9f683",
   "metadata": {},
   "source": [
    "### Dict of lists for all levels of the coordinates of isolated cells in them"
   ]
  },
  {
   "cell_type": "code",
   "execution_count": null,
   "id": "152cad1a-e04b-4c0a-9e69-2cf8f9100fc2",
   "metadata": {},
   "outputs": [],
   "source": [
    "# Make all not-isolated cells = -1.\n",
    "grid_lvld[~grid_lvld_isolated] = -1"
   ]
  },
  {
   "cell_type": "code",
   "execution_count": null,
   "id": "c175d6f8-d02f-4bf8-be1c-5c72fcfb24d3",
   "metadata": {},
   "outputs": [],
   "source": [
    "# We found this to be a good limit given our RAM.\n",
    "max_lvls_per_list = round(lvl / 100 * (512/grid_lvld.shape[0])**3)\n",
    "no_lists = lvl // max_lvls_per_list + (1 if (lvl % max_lvls_per_list)!=0 else 0)"
   ]
  },
  {
   "cell_type": "code",
   "execution_count": null,
   "id": "4c73f022-fbf8-4c78-af88-e75f48364a20",
   "metadata": {},
   "outputs": [],
   "source": [
    "for list_index in range(no_lists):\n",
    "\n",
    "    dict_cells_isolated = {val: [] for val in range(lvl)}\n",
    "    \n",
    "    for coord in np.argwhere((max_lvls_per_list * list_index         <= grid_lvld) & \n",
    "                             (max_lvls_per_list * (list_index+1) - 1 >= grid_lvld)):\n",
    "        \n",
    "        dict_cells_isolated[grid_lvld[tuple(coord)]].append(coord.tolist())\n",
    "    \n",
    "    with open(file_path_Lvl+\"dict_cells_isolated/\"+str(list_index)+\".pk\", 'wb') as f: pkl.dump(dict_cells_isolated, f)"
   ]
  },
  {
   "cell_type": "code",
   "execution_count": null,
   "id": "b61b08ba-ab95-4465-ad16-9086db25b46b",
   "metadata": {},
   "outputs": [],
   "source": [
    "del dict_cells_isolated; gc.collect()"
   ]
  },
  {
   "cell_type": "markdown",
   "id": "56e38a1d-4380-4f2a-8ed7-db523c5515ad",
   "metadata": {},
   "source": [
    "---"
   ]
  },
  {
   "cell_type": "markdown",
   "id": "23117246-6791-41d0-beca-0d82e019ef67",
   "metadata": {},
   "source": [
    "### Get the pairs cells"
   ]
  },
  {
   "cell_type": "code",
   "execution_count": null,
   "id": "761ea25c-af2e-4e6a-ba8c-629e3bb3fd32",
   "metadata": {},
   "outputs": [],
   "source": [
    "with open(file_path_Lvl+\"grid_lvld.pk\", 'rb') as f: grid_lvld = pkl.load(f)\n",
    "\n",
    "# Make all isolated cells = -1.\n",
    "grid_lvld[grid_lvld_isolated] = -1"
   ]
  },
  {
   "cell_type": "code",
   "execution_count": null,
   "id": "e21fe965-ee95-41b1-9ed7-eeeca5c9faf8",
   "metadata": {},
   "outputs": [],
   "source": [
    "for list_index in range(no_lists):\n",
    "    \n",
    "    dict_cells_pairs = {val: [] for val in range(lvl)}\n",
    "\n",
    "    for coord in np.argwhere((max_lvls_per_list * list_index         <= grid_lvld) & \n",
    "                             (max_lvls_per_list * (list_index+1) - 1 >= grid_lvld)):\n",
    "        \n",
    "        dict_cells_pairs[grid_lvld[tuple(coord)]].append(coord.tolist())\n",
    "    \n",
    "    # Now make pairs within each level's pairs cells\n",
    "    for i in range(max_lvls_per_list * list_index, np.min([max_lvls_per_list * (list_index+1), lvl])):\n",
    "        ldcp = len(dict_cells_pairs[i])\n",
    "        if ldcp != 0:\n",
    "            if 2 <= ldcp <= 3:\n",
    "                # We know all cells are part of a pair, so if there are two, they are the pair and if there are\n",
    "                #     3, you can't just leave one outside of the pair, it'd be isolated, so they are all part of a\n",
    "                #     single pair.\n",
    "                dict_cells_pairs[i] = [dict_cells_pairs[i]]\n",
    "            else:\n",
    "                dict_cells_pairs[i] = pairs_finder_1(np.array(dict_cells_pairs[i]), grid_lvld.shape[0])\n",
    "\n",
    "    with open(file_path_Lvl+\"dict_cells_pairs/\"+str(list_index)+\".pk\", 'wb') as f: pkl.dump(dict_cells_pairs, f)"
   ]
  },
  {
   "cell_type": "markdown",
   "id": "27ecdd9a-9fa8-4cf8-baca-24809aa28f01",
   "metadata": {},
   "source": [
    "---\n",
    "---\n",
    "---"
   ]
  }
 ],
 "metadata": {
  "kernelspec": {
   "display_name": "Python 3 (ipykernel)",
   "language": "python",
   "name": "python3"
  },
  "language_info": {
   "codemirror_mode": {
    "name": "ipython",
    "version": 3
   },
   "file_extension": ".py",
   "mimetype": "text/x-python",
   "name": "python",
   "nbconvert_exporter": "python",
   "pygments_lexer": "ipython3",
   "version": "3.12.5"
  }
 },
 "nbformat": 4,
 "nbformat_minor": 5
}
