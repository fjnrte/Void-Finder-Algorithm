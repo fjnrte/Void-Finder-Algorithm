{
 "cells": [
  {
   "cell_type": "markdown",
   "id": "315c42e5-ed79-4d5d-8f2d-4978373652f7",
   "metadata": {},
   "source": [
    "### Core libraries"
   ]
  },
  {
   "cell_type": "code",
   "execution_count": null,
   "id": "29da12e6",
   "metadata": {},
   "outputs": [],
   "source": [
    "import random\n",
    "import gc"
   ]
  },
  {
   "cell_type": "markdown",
   "id": "ca1d8c5b-e1fd-4bb3-b51e-f4e3a8db56e5",
   "metadata": {},
   "source": [
    "---\n",
    "---\n",
    "---\n",
    "---\n",
    "---\n",
    "---\n",
    "---\n",
    "---\n",
    "---\n",
    "---"
   ]
  },
  {
   "cell_type": "markdown",
   "id": "340736d7-dab2-4b67-982b-6b8a4e44680e",
   "metadata": {},
   "source": [
    "### Mass of a DM particle from Illustris_3"
   ]
  },
  {
   "cell_type": "code",
   "execution_count": null,
   "id": "03fc4d50-e21e-4397-8ee4-193391cbb4b6",
   "metadata": {},
   "outputs": [],
   "source": [
    "m_DM = 0.0338857141965349   # * 10^10 M_Sun"
   ]
  },
  {
   "cell_type": "markdown",
   "id": "e288a14a-0399-4149-be20-60ec71a07922",
   "metadata": {},
   "source": [
    "---\n",
    "---\n",
    "---\n",
    "---\n",
    "---"
   ]
  },
  {
   "cell_type": "markdown",
   "id": "1ce8a9b8-c821-491d-9f5f-93bff336d2f1",
   "metadata": {},
   "source": [
    "### Size of the grid"
   ]
  },
  {
   "cell_type": "code",
   "execution_count": null,
   "id": "eb482f32-ff4a-4cd1-ad5c-a1e6e61519ed",
   "metadata": {},
   "outputs": [],
   "source": [
    "ALL_sizes = [2**7, 2**8, 2**9, 2**9]   # 128 & 256 & 256_zone"
   ]
  },
  {
   "cell_type": "markdown",
   "id": "83e960cb-bbc7-4dbe-bea0-b0be7e38b812",
   "metadata": {},
   "source": [
    "### Numer of cores for multiprocessing\n",
    "\n",
    "(Note: RAM is really the limiting factor.)\n",
    "\n",
    "(Note: Below we offer the values used for an Apple M1 SIP with 16Gb of RAM and the computational time for size=512 | $\\sigma$=0.6 | level=1$0^5$.)"
   ]
  },
  {
   "cell_type": "code",
   "execution_count": null,
   "id": "078cd27a-ba54-488d-af72-fafe4da72aec",
   "metadata": {},
   "outputs": [],
   "source": [
    "ALL_cores_no___1_cube                  = [4, 3, 3, 3] # (~2.5 min) ###\n",
    "ALL_cores_no___2_Gaussian              = [4, 3, 3, 3] # (~0.5 min) ###\n",
    "ALL_cores_no___3_Layer                 = [4, 3, 3, 3] # (~1 min) ###\n",
    "ALL_cores_no___4_UOD_vals_and_lvls     = [4, 4, 2, 2] # (~1 min) ###\n",
    "ALL_cores_no___5_Origins               = [4, 4, 3, 3] # (~0 min) #\n",
    "ALL_cores_no___6_Levels_isolated_pairs = [4, 4, 3, 3] # (~0 min)\n",
    "ALL_cores_no___7_Finder                = [4, 3, 3, 3] # (~0 min)"
   ]
  },
  {
   "cell_type": "markdown",
   "id": "f2076bf0-52a3-4add-a273-1e3cc4861c26",
   "metadata": {},
   "source": [
    "### Redshifts and their file number from Illustris3"
   ]
  },
  {
   "cell_type": "code",
   "execution_count": null,
   "id": "e782d92d-28e5-44d4-9a43-c785052619c2",
   "metadata": {},
   "outputs": [],
   "source": [
    "ALL_zPaths      = [[  \"00\"],\n",
    "                   [  \"00\"],\n",
    "                   [  \"00\",   \"01\",   \"02\",  \"04\",  \"07\",  \"10\",  \"16\",  \"20\",  \"30\",  \"50\",  \"70\",  \"90\",  \"120\",  \"170\"],\n",
    "                   [  \"00\"]]\n",
    "ALL_zPaths_nice = [[ \"0.0\"],\n",
    "                   [ \"0.0\"],\n",
    "                   [ \"0.0\",  \"0.1\",  \"0.2\", \"0.4\", \"0.7\", \"1.0\", \"1.6\", \"2.0\", \"3.0\", \"5.0\", \"7.0\", \"9.0\", \"12.0\", \"17.0\"],\n",
    "                   [ \"0.0\"]]\n",
    "ALL_zPaths_no   = [[   0.0],\n",
    "                   [   0.0],\n",
    "                   [   0.0,    0.1,    0.2,   0.4,   0.7,   1.0,   1.6,   2.0,   3.0,   5.0,   7.0,   9.0,   12.0,   17.0],\n",
    "                   [   0.0]]\n",
    "ALL_znos        = [[ \"135\"],\n",
    "                   [ \"135\"],\n",
    "                   [ \"135\",  \"127\",  \"120\", \"108\",  \"95\",  \"85\",  \"73\",  \"68\",  \"60\",  \"49\",  \"41\",  \"35\",   \"28\",   \"21\"],\n",
    "                   [ \"135\"]]\n",
    "ALL_ages        = [[13.752],\n",
    "                   [13.752],\n",
    "                   [13.752, 12.462, 11.353, 9.463, 7.411, 5.977, 4.120, 3.356, 2.195, 1.205, 0.782, 0.560,  0.376,  0.231],\n",
    "                   [13.752]]"
   ]
  },
  {
   "cell_type": "markdown",
   "id": "1eb97848-4e46-470a-abf3-8200f04d16a4",
   "metadata": {},
   "source": [
    "### Edges of the cubes we're interested in [cMpc/h]\n",
    "\n",
    "(Note: 0-75 is the default for the whole cube.)\n",
    "\n",
    "(Note: Since this project uses data cubes in the following steps, we only allow for cubic spapes.)"
   ]
  },
  {
   "cell_type": "code",
   "execution_count": null,
   "id": "52715192-8984-4e8f-8d33-9410090d9088",
   "metadata": {},
   "outputs": [],
   "source": [
    "ALL_edge_cube_cuts = [[[ 0,75],  [ 0,75],  [ 0,75]],\n",
    "                      [[ 0,75],  [ 0,75],  [ 0,75]],\n",
    "                      [[ 0,75],  [ 0,75],  [ 0,75]],\n",
    "                      [[25,50],  [25,50],  [25,50]]]"
   ]
  },
  {
   "cell_type": "code",
   "execution_count": null,
   "id": "d4c4b16d-8dda-4b13-a35f-ee6aa7a292c7",
   "metadata": {},
   "outputs": [],
   "source": [
    "# We multiply by 1000 cecause the Illustris_3 data is in kpc and we onyl use those in the making of the cube.\n",
    "ALL_eccs = [[[ecc_ij*1000 for ecc_ij in ecc_i] for ecc_i in ecc] for ecc in ALL_edge_cube_cuts]"
   ]
  },
  {
   "cell_type": "markdown",
   "id": "d5f0714c-b02a-477b-b8b6-376eef3417f9",
   "metadata": {},
   "source": [
    "### Grid size (dxyz)\n",
    "\n",
    "(Note: These are in units of ckpc/h, since this is how the files were given.)"
   ]
  },
  {
   "cell_type": "code",
   "execution_count": null,
   "id": "953bed72-be03-4428-bf6f-a8fd3fff0cce",
   "metadata": {},
   "outputs": [],
   "source": [
    "ALL_d_xyzs = [(ecc[0][1]-ecc[0][0])/size for ecc, size in zip(ALL_eccs, ALL_sizes)]"
   ]
  },
  {
   "cell_type": "markdown",
   "id": "5a2ba7fe-4a95-41e3-843d-b6780a65040d",
   "metadata": {},
   "source": [
    "---"
   ]
  },
  {
   "cell_type": "markdown",
   "id": "91868da6-54d3-4784-b6e0-4c8d741440c5",
   "metadata": {},
   "source": [
    "### Paths"
   ]
  },
  {
   "cell_type": "code",
   "execution_count": null,
   "id": "f08eaec0-1b06-4c33-9410-34d6ae74e24c",
   "metadata": {},
   "outputs": [],
   "source": [
    "# Define the directory where your notebook is located\n",
    "notebook_directory = \"./\"\n",
    "\n",
    "# Create a directory to store the executed notebooks\n",
    "output_directory = \"../output/\"\n",
    "\n",
    "# Path to save files to\n",
    "basePath   = '..'\n",
    "plots_path = basePath+\"/Plots/\"\n",
    "\n",
    "ALL_file_paths = []\n",
    "for z, size in enumerate(ALL_sizes):\n",
    "    txt = basePath+\"/Modified_Data_\"+str(int(size))+('' if (ALL_edge_cube_cuts[z] == [[0,75], [0,75], [0,75]]) else '___'+txt_ZONE) +\"/\"\n",
    "    txt_ZONE = \"__\".join(\"_\".join(str(ALL_edge_cube_cuts[z][i][j]) for j in range(len(ALL_edge_cube_cuts[z][i]))) for i in range(len(ALL_edge_cube_cuts[z])))\n",
    "    ALL_file_paths.append(txt)"
   ]
  },
  {
   "cell_type": "markdown",
   "id": "9ac27acd-ab67-4093-935a-bc705a37c4e1",
   "metadata": {},
   "source": [
    "---\n",
    "---\n",
    "---\n",
    "---"
   ]
  },
  {
   "cell_type": "markdown",
   "id": "501c8bbf-38c3-4b8b-a565-17e7cc9cc7c5",
   "metadata": {},
   "source": [
    "### STD of the Gaussian smoothing in physical units [cMpc/h]\n",
    "\n",
    "Those for all the current epoch and those for the it and all the previous ones (we use a fixed one for the previous frames, but if one desires different values, the code is easily adaptable)."
   ]
  },
  {
   "cell_type": "code",
   "execution_count": null,
   "id": "6a350d15-958e-48fb-b1ff-c13b148d27bc",
   "metadata": {},
   "outputs": [],
   "source": [
    "ALL_sigma_ps = [[[0.3, 0.4, 0.6, 1]],\n",
    "                [[0.3, 0.4, 0.6, 1]],\n",
    "                [[0.3, 0.4, 0.6, 1],\n",
    "                 [          0.6   ],\n",
    "                 [          0.6   ],\n",
    "                 [          0.6   ],\n",
    "                 [          0.6   ],\n",
    "                 [          0.6   ],\n",
    "                 [          0.6   ],\n",
    "                 [          0.6   ],\n",
    "                 [          0.6   ],\n",
    "                 [          0.6   ],\n",
    "                 [          0.6   ],\n",
    "                 [          0.6   ],\n",
    "                 [          0.6   ], \n",
    "                 [          0.6   ]],\n",
    "                [[          0.6   ]]]\n",
    "\n",
    "ALL_sigma_cs = []\n",
    "for z, ALL_sigma_ps_i in enumerate(ALL_sigma_ps):\n",
    "    d_xyz_sgm = ALL_d_xyzs[z]/1000\n",
    "    ALL_sigma_cs.append([])\n",
    "    for ALL_sigma_ps_ij in ALL_sigma_ps_i:\n",
    "        ALL_sigma_cs[-1].append([])\n",
    "        for ALL_sigma_ps_ijk in ALL_sigma_ps_ij:\n",
    "            ALL_sigma_cs[-1][-1].append(round(ALL_sigma_ps_ijk/d_xyz_sgm, 3))  "
   ]
  },
  {
   "cell_type": "markdown",
   "id": "d245f41f-da36-4d4b-b871-0d144876ab7c",
   "metadata": {},
   "source": [
    "### Number of levels to level the cubes"
   ]
  },
  {
   "cell_type": "code",
   "execution_count": null,
   "id": "be50a1b1-8207-4e5e-b92a-7e9317138cbb",
   "metadata": {},
   "outputs": [],
   "source": [
    "ALL_lvls =         [[[[10**4], [10**4], [3*10**2, 10**3, 3*10**3, 10**4, 3*10**4, 10**5, 3*10**5       ], [10**4]]],\n",
    "                    [[[10**5], [10**5], [3*10**2, 10**3, 3*10**3, 10**4, 3*10**4, 10**5, 3*10**5, 10**6], [10**5]]],\n",
    "                    [[[10**5], [10**5], [3*10**2, 10**3, 3*10**3, 10**4, 3*10**4, 10**5, 3*10**5, 10**6], [10**5]],\n",
    "                     [                  [                                         10**5                ]         ],\n",
    "                     [                  [                                         10**5                ]         ],\n",
    "                     [                  [                                         10**5                ]         ],\n",
    "                     [                  [                                         10**5                ]         ],\n",
    "                     [                  [                                         10**5                ]         ],\n",
    "                     [                  [                                         10**5                ]         ],\n",
    "                     [                  [                                         10**5                ]         ],\n",
    "                     [                  [                                         10**5                ]         ],\n",
    "                     [                  [                                         10**5                ]         ],\n",
    "                     [                  [                                         10**5                ]         ],\n",
    "                     [                  [                                         10**5                ]         ],\n",
    "                     [                  [                                         10**5                ]         ],\n",
    "                     [                  [                                         10**5                ]         ]],\n",
    "                    [[                  [                                         10**5                ]         ]]]"
   ]
  },
  {
   "cell_type": "markdown",
   "id": "747da031-c9cd-4dde-93ae-edb762559e5d",
   "metadata": {},
   "source": [
    "### Under and Over densities"
   ]
  },
  {
   "cell_type": "code",
   "execution_count": null,
   "id": "aefdc6ec-f5cb-45c6-acfa-23a7fae3a90f",
   "metadata": {},
   "outputs": [],
   "source": [
    "ALL_Density_uods = [[[[[                       ]],  [[                       ]], [[], [], [], [                        [0.20,0.30]], [], [                                   ], []                                       ], [[                       ]]]],\n",
    "                    [[[[                       ]],  [[                       ]], [[], [], [], [                                   ], [], [                        [0.20,0.30]], [], [                                   ]], [[                       ]]]],\n",
    "                    [[[[[0.15,0.50],[0.20,0.30]]],  [[[0.15,0.50],[0.20,0.30]]], [[], [], [], [[0.00,1.00],[0.15,0.50],[0.20,0.30]], [], [[0.00,1.00],[0.15,0.50],[0.20,0.30]], [], [[0.00,1.00],[0.15,0.50],[0.20,0.30]]], [[[0.15,0.50],[0.20,0.30]]]],\n",
    "                     [                                                           [                                                       [                        [0.20,0.30]]                                           ]                             ],\n",
    "                     [                                                           [                                                       [                        [0.20,0.30]]                                           ]                             ],\n",
    "                     [                                                           [                                                       [                        [0.20,0.30]]                                           ]                             ],\n",
    "                     [                                                           [                                                       [            [0.15,0.50],[0.20,0.30]]                                           ]                             ],\n",
    "                     [                                                           [                                                       [                        [0.20,0.30]]                                           ]                             ],\n",
    "                     [                                                           [                                                       [                        [0.20,0.30]]                                           ]                             ],\n",
    "                     [                                                           [                                                       [                        [0.20,0.30]]                                           ]                             ],\n",
    "                     [                                                           [                                                       [            [0.15,0.50],[0.20,0.30]]                                           ]                             ],\n",
    "                     [                                                           [                                                       [                        [0.20,0.30]]                                           ]                             ],\n",
    "                     [                                                           [                                                       [                        [0.20,0.30]]                                           ]                             ],\n",
    "                     [                                                           [                                                       [                        [0.20,0.30]]                                           ]                             ],\n",
    "                     [                                                           [                                                       [            [0.15,0.50],[0.20,0.30]]                                           ]                             ],\n",
    "                     [                                                           [                                                       [                        [0.20,0.30]]                                           ]                             ]],\n",
    "                    [[                                                           [                                                       [[0.00,1.00],[0.15,0.50],[0.20,0.30]]                                           ]                             ]]] "
   ]
  },
  {
   "cell_type": "markdown",
   "id": "4fd794ce-8572-4488-a15d-afeacca6eea0",
   "metadata": {},
   "source": [
    "### Origins"
   ]
  },
  {
   "cell_type": "code",
   "execution_count": null,
   "id": "3b01adde-6267-486f-87c2-cccf9d206ecb",
   "metadata": {},
   "outputs": [],
   "source": [
    "ALL_run_Origins =  [[[[True ], [True ], [True,    True,  True,    True,  True,    True,  True          ], [True  ]]],\n",
    "                    [[[True ], [True ], [True,    True,  True,    True,  True,    True,  True,    True ], [True  ]]],\n",
    "                    [[[True ], [True ], [True,    True,  True,    True,  True,    True,  True,    True ], [True  ]],\n",
    "                     [                  [                                         True                 ]         ],\n",
    "                     [                  [                                         True                 ]         ],\n",
    "                     [                  [                                         True                 ]         ],\n",
    "                     [                  [                                         True                 ]         ],\n",
    "                     [                  [                                         True                 ]         ],\n",
    "                     [                  [                                         True                 ]         ],\n",
    "                     [                  [                                         True                 ]         ],\n",
    "                     [                  [                                         True                 ]         ],\n",
    "                     [                  [                                         True                 ]         ],\n",
    "                     [                  [                                         True                 ]         ],\n",
    "                     [                  [                                         True                 ]         ],\n",
    "                     [                  [                                         True                 ]         ],\n",
    "                     [                  [                                         True                 ]         ]],\n",
    "                    [[                  [                                         True                 ]         ]]]"
   ]
  },
  {
   "cell_type": "markdown",
   "id": "856584ef-a7ac-4c16-9992-7240d3442bbc",
   "metadata": {},
   "source": [
    "---"
   ]
  },
  {
   "cell_type": "markdown",
   "id": "ed7b56a0-0e80-41f8-9962-9439be7a8d66",
   "metadata": {},
   "source": [
    "### MK1, MK2"
   ]
  },
  {
   "cell_type": "code",
   "execution_count": null,
   "id": "a584faaf-ae9a-4e7b-9265-c2bd248359fc",
   "metadata": {},
   "outputs": [],
   "source": [
    "ALL_run_MKs      = [[[[[               ]],  [[               ]], [[], [], [], [                [\"MK1\",\"MK2\"]], [], [                                   ], []                           ], [[               ]]]],\n",
    "                    [[[[               ]],  [[               ]], [[], [], [], [                             ], [], [                      [\"MK1\",\"MK2\"]], [], [                       ]], [[               ]]]],\n",
    "                    [[[[[\"MK2\"],[\"MK2\"]]],  [[[\"MK2\"],[\"MK2\"]]], [[], [], [], [[\"MK2\"],[\"MK2\"],[      \"MK2\"]], [], [[\"MK1\",\"MK2\"],[\"MK2\"],[\"MK1\",\"MK2\"]], [], [[\"MK2\"],[\"MK2\"],[\"MK2\"]]], [[[\"MK2\"],[\"MK2\"]]]],\n",
    "                     [                                           [                                                 [                      [      \"MK2\"]]                               ]                     ],\n",
    "                     [                                           [                                                 [                      [      \"MK2\"]]                               ]                     ],\n",
    "                     [                                           [                                                 [                      [      \"MK2\"]]                               ]                     ],\n",
    "                     [                                           [                                                 [              [\"MK2\"],[      \"MK2\"]]                               ]                     ],\n",
    "                     [                                           [                                                 [                      [      \"MK2\"]]                               ]                     ],\n",
    "                     [                                           [                                                 [                      [      \"MK2\"]]                               ]                     ],\n",
    "                     [                                           [                                                 [                      [      \"MK2\"]]                               ]                     ],\n",
    "                     [                                           [                                                 [              [\"MK2\"],[      \"MK2\"]]                               ]                     ],\n",
    "                     [                                           [                                                 [                      [      \"MK2\"]]                               ]                     ],\n",
    "                     [                                           [                                                 [                      [      \"MK2\"]]                               ]                     ],\n",
    "                     [                                           [                                                 [                      [      \"MK2\"]]                               ]                     ],\n",
    "                     [                                           [                                                 [              [\"MK2\"],[      \"MK2\"]]                               ]                     ],\n",
    "                     [                                           [                                                 [                      [      \"MK2\"]]                               ]                     ]],\n",
    "                    [[                                           [                                                 [[      \"MK2\"],[\"MK2\"],[      \"MK2\"]]                               ]                     ]]] "
   ]
  },
  {
   "cell_type": "markdown",
   "id": "d443f86c-b19a-4d09-bcc5-8d1e9e30fff6",
   "metadata": {},
   "source": [
    "---"
   ]
  },
  {
   "cell_type": "markdown",
   "id": "ed8be2d9-42e4-408c-9be2-9fda5371e7fc",
   "metadata": {},
   "source": [
    "### Save1%"
   ]
  },
  {
   "cell_type": "code",
   "execution_count": null,
   "id": "c098356c-f2f6-4d4c-9cc0-f3c2bf0d4bb4",
   "metadata": {},
   "outputs": [],
   "source": [
    "ALL_save1percs   = [[[[[               ]],  [[               ]], [[], [], [], [                [False,False]], [], [                                  ], []                           ], [[               ]]]],\n",
    "                    [[[[               ]],  [[               ]], [[], [], [], [                             ], [], [                      [True, True]], [], [                       ]], [[               ]]]],\n",
    "                    [[[[[False],[False]]],  [[[False],[False]]], [[], [], [], [[False],[False],[      False]], [], [[True ,True ],[False],[True, True]], [], [[False],[False],[False]]], [[[False],[False]]]],\n",
    "                     [                                           [                                                 [                      [      True]]                               ]                     ],\n",
    "                     [                                           [                                                 [                      [      True]]                               ]                     ],\n",
    "                     [                                           [                                                 [                      [      True]]                               ]                     ],\n",
    "                     [                                           [                                                 [              [False],[      True]]                               ]                     ],\n",
    "                     [                                           [                                                 [                      [      True]]                               ]                     ],\n",
    "                     [                                           [                                                 [                      [      True]]                               ]                     ],\n",
    "                     [                                           [                                                 [                      [      True]]                               ]                     ],\n",
    "                     [                                           [                                                 [              [False],[      True]]                               ]                     ],\n",
    "                     [                                           [                                                 [                      [      True]]                               ]                     ],\n",
    "                     [                                           [                                                 [                      [      True]]                               ]                     ],\n",
    "                     [                                           [                                                 [                      [      True]]                               ]                     ],\n",
    "                     [                                           [                                                 [              [False],[      True]]                               ]                     ],\n",
    "                     [                                           [                                                 [                      [      True]]                               ]                     ]],\n",
    "                    [[                                           [                                                 [[      True ],[True ],[      True]]                               ]                     ]]] "
   ]
  },
  {
   "cell_type": "markdown",
   "id": "e65996b2-042f-4dcb-9a32-5a37b693dde1",
   "metadata": {},
   "source": [
    "---\n",
    "---\n",
    "---"
   ]
  },
  {
   "cell_type": "markdown",
   "id": "e44acb7f-f4e9-4559-aed1-5e8179a5d1fd",
   "metadata": {},
   "source": [
    "### Number of permuations allowed in Finder"
   ]
  },
  {
   "cell_type": "code",
   "execution_count": null,
   "id": "284a2840-3dd5-4991-bf76-d84238eb1335",
   "metadata": {},
   "outputs": [],
   "source": [
    "times_we_tried_max = 2*3*4*5"
   ]
  },
  {
   "cell_type": "markdown",
   "id": "ed733da2-0184-404b-95f3-c234265ac7b2",
   "metadata": {},
   "source": [
    "### Random seed for replicating the results\n",
    "\n",
    "As we later explain, even our code does contain parts where the seed definitely can play a crucial role."
   ]
  },
  {
   "cell_type": "code",
   "execution_count": null,
   "id": "afae44fd-24a1-4881-a76e-840a2176bf2d",
   "metadata": {},
   "outputs": [],
   "source": [
    "random.seed(9)"
   ]
  },
  {
   "cell_type": "markdown",
   "id": "39365d91-bff6-4407-acfe-7a60aecdd0ac",
   "metadata": {},
   "source": [
    "---\n",
    "---\n",
    "---"
   ]
  }
 ],
 "metadata": {
  "kernelspec": {
   "display_name": "Python 3 (ipykernel)",
   "language": "python",
   "name": "python3"
  },
  "language_info": {
   "codemirror_mode": {
    "name": "ipython",
    "version": 3
   },
   "file_extension": ".py",
   "mimetype": "text/x-python",
   "name": "python",
   "nbconvert_exporter": "python",
   "pygments_lexer": "ipython3",
   "version": "3.12.5"
  }
 },
 "nbformat": 4,
 "nbformat_minor": 5
}
