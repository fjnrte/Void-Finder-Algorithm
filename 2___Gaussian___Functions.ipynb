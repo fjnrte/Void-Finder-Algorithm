{
 "cells": [
  {
   "cell_type": "code",
   "execution_count": null,
   "id": "bff8ca90-6c3f-449e-a87c-269aaf091134",
   "metadata": {},
   "outputs": [],
   "source": [
    "import pickle as pkl\n",
    "import numpy as np\n",
    "from scipy.fft import  fftn as  fftn\n",
    "from scipy.fft import ifftn as ifftn\n",
    "from scipy.ndimage import fourier_gaussian as fourier_gaussian"
   ]
  },
  {
   "cell_type": "markdown",
   "id": "b79ca4b4-0296-4bbd-8e8a-8efe4613cc8f",
   "metadata": {},
   "source": [
    "---\n",
    "---\n",
    "---"
   ]
  }
 ],
 "metadata": {
  "kernelspec": {
   "display_name": "Python 3 (ipykernel)",
   "language": "python",
   "name": "python3"
  },
  "language_info": {
   "codemirror_mode": {
    "name": "ipython",
    "version": 3
   },
   "file_extension": ".py",
   "mimetype": "text/x-python",
   "name": "python",
   "nbconvert_exporter": "python",
   "pygments_lexer": "ipython3",
   "version": "3.12.5"
  }
 },
 "nbformat": 4,
 "nbformat_minor": 5
}
